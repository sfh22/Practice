{
 "cells": [
  {
   "cell_type": "markdown",
   "metadata": {},
   "source": [
    "# Regression"
   ]
  },
  {
   "cell_type": "code",
   "execution_count": 127,
   "metadata": {},
   "outputs": [],
   "source": [
    "import pandas as pd\n",
    "import quandl, datetime\n",
    "import matplotlib.pyplot as plt\n",
    "from matplotlib import style\n",
    "import pickle"
   ]
  },
  {
   "cell_type": "code",
   "execution_count": 128,
   "metadata": {},
   "outputs": [],
   "source": [
    "import random"
   ]
  },
  {
   "cell_type": "code",
   "execution_count": 129,
   "metadata": {},
   "outputs": [],
   "source": [
    "style.use('ggplot')"
   ]
  },
  {
   "cell_type": "code",
   "execution_count": 130,
   "metadata": {},
   "outputs": [],
   "source": [
    "import math\n",
    "import numpy as np\n",
    "from sklearn import preprocessing\n",
    "from sklearn.model_selection import cross_validate\n",
    "from sklearn import svm\n",
    "from sklearn.linear_model import LinearRegression\n",
    "from sklearn.model_selection import train_test_split"
   ]
  },
  {
   "cell_type": "code",
   "execution_count": 131,
   "metadata": {},
   "outputs": [],
   "source": [
    "quandl.ApiConfig.api_key = \"77LBxDrVmdg2shza5qdX\"\n",
    "df = quandl.get('WIKI/GOOGL') #Check the Quandl website"
   ]
  },
  {
   "cell_type": "code",
   "execution_count": 132,
   "metadata": {},
   "outputs": [
    {
     "data": {
      "text/html": [
       "<div>\n",
       "<style scoped>\n",
       "    .dataframe tbody tr th:only-of-type {\n",
       "        vertical-align: middle;\n",
       "    }\n",
       "\n",
       "    .dataframe tbody tr th {\n",
       "        vertical-align: top;\n",
       "    }\n",
       "\n",
       "    .dataframe thead th {\n",
       "        text-align: right;\n",
       "    }\n",
       "</style>\n",
       "<table border=\"1\" class=\"dataframe\">\n",
       "  <thead>\n",
       "    <tr style=\"text-align: right;\">\n",
       "      <th></th>\n",
       "      <th>Open</th>\n",
       "      <th>High</th>\n",
       "      <th>Low</th>\n",
       "      <th>Close</th>\n",
       "      <th>Volume</th>\n",
       "      <th>Ex-Dividend</th>\n",
       "      <th>Split Ratio</th>\n",
       "      <th>Adj. Open</th>\n",
       "      <th>Adj. High</th>\n",
       "      <th>Adj. Low</th>\n",
       "      <th>Adj. Close</th>\n",
       "      <th>Adj. Volume</th>\n",
       "    </tr>\n",
       "    <tr>\n",
       "      <th>Date</th>\n",
       "      <th></th>\n",
       "      <th></th>\n",
       "      <th></th>\n",
       "      <th></th>\n",
       "      <th></th>\n",
       "      <th></th>\n",
       "      <th></th>\n",
       "      <th></th>\n",
       "      <th></th>\n",
       "      <th></th>\n",
       "      <th></th>\n",
       "      <th></th>\n",
       "    </tr>\n",
       "  </thead>\n",
       "  <tbody>\n",
       "    <tr>\n",
       "      <th>2004-08-19</th>\n",
       "      <td>100.01</td>\n",
       "      <td>104.06</td>\n",
       "      <td>95.96</td>\n",
       "      <td>100.335</td>\n",
       "      <td>44659000.0</td>\n",
       "      <td>0.0</td>\n",
       "      <td>1.0</td>\n",
       "      <td>50.159839</td>\n",
       "      <td>52.191109</td>\n",
       "      <td>48.128568</td>\n",
       "      <td>50.322842</td>\n",
       "      <td>44659000.0</td>\n",
       "    </tr>\n",
       "    <tr>\n",
       "      <th>2004-08-20</th>\n",
       "      <td>101.01</td>\n",
       "      <td>109.08</td>\n",
       "      <td>100.50</td>\n",
       "      <td>108.310</td>\n",
       "      <td>22834300.0</td>\n",
       "      <td>0.0</td>\n",
       "      <td>1.0</td>\n",
       "      <td>50.661387</td>\n",
       "      <td>54.708881</td>\n",
       "      <td>50.405597</td>\n",
       "      <td>54.322689</td>\n",
       "      <td>22834300.0</td>\n",
       "    </tr>\n",
       "    <tr>\n",
       "      <th>2004-08-23</th>\n",
       "      <td>110.76</td>\n",
       "      <td>113.48</td>\n",
       "      <td>109.05</td>\n",
       "      <td>109.400</td>\n",
       "      <td>18256100.0</td>\n",
       "      <td>0.0</td>\n",
       "      <td>1.0</td>\n",
       "      <td>55.551482</td>\n",
       "      <td>56.915693</td>\n",
       "      <td>54.693835</td>\n",
       "      <td>54.869377</td>\n",
       "      <td>18256100.0</td>\n",
       "    </tr>\n",
       "    <tr>\n",
       "      <th>2004-08-24</th>\n",
       "      <td>111.24</td>\n",
       "      <td>111.60</td>\n",
       "      <td>103.57</td>\n",
       "      <td>104.870</td>\n",
       "      <td>15247300.0</td>\n",
       "      <td>0.0</td>\n",
       "      <td>1.0</td>\n",
       "      <td>55.792225</td>\n",
       "      <td>55.972783</td>\n",
       "      <td>51.945350</td>\n",
       "      <td>52.597363</td>\n",
       "      <td>15247300.0</td>\n",
       "    </tr>\n",
       "    <tr>\n",
       "      <th>2004-08-25</th>\n",
       "      <td>104.76</td>\n",
       "      <td>108.00</td>\n",
       "      <td>103.88</td>\n",
       "      <td>106.000</td>\n",
       "      <td>9188600.0</td>\n",
       "      <td>0.0</td>\n",
       "      <td>1.0</td>\n",
       "      <td>52.542193</td>\n",
       "      <td>54.167209</td>\n",
       "      <td>52.100830</td>\n",
       "      <td>53.164113</td>\n",
       "      <td>9188600.0</td>\n",
       "    </tr>\n",
       "  </tbody>\n",
       "</table>\n",
       "</div>"
      ],
      "text/plain": [
       "              Open    High     Low    Close      Volume  Ex-Dividend  \\\n",
       "Date                                                                   \n",
       "2004-08-19  100.01  104.06   95.96  100.335  44659000.0          0.0   \n",
       "2004-08-20  101.01  109.08  100.50  108.310  22834300.0          0.0   \n",
       "2004-08-23  110.76  113.48  109.05  109.400  18256100.0          0.0   \n",
       "2004-08-24  111.24  111.60  103.57  104.870  15247300.0          0.0   \n",
       "2004-08-25  104.76  108.00  103.88  106.000   9188600.0          0.0   \n",
       "\n",
       "            Split Ratio  Adj. Open  Adj. High   Adj. Low  Adj. Close  \\\n",
       "Date                                                                   \n",
       "2004-08-19          1.0  50.159839  52.191109  48.128568   50.322842   \n",
       "2004-08-20          1.0  50.661387  54.708881  50.405597   54.322689   \n",
       "2004-08-23          1.0  55.551482  56.915693  54.693835   54.869377   \n",
       "2004-08-24          1.0  55.792225  55.972783  51.945350   52.597363   \n",
       "2004-08-25          1.0  52.542193  54.167209  52.100830   53.164113   \n",
       "\n",
       "            Adj. Volume  \n",
       "Date                     \n",
       "2004-08-19   44659000.0  \n",
       "2004-08-20   22834300.0  \n",
       "2004-08-23   18256100.0  \n",
       "2004-08-24   15247300.0  \n",
       "2004-08-25    9188600.0  "
      ]
     },
     "execution_count": 132,
     "metadata": {},
     "output_type": "execute_result"
    }
   ],
   "source": [
    "df.head()"
   ]
  },
  {
   "cell_type": "code",
   "execution_count": 133,
   "metadata": {},
   "outputs": [],
   "source": [
    "df = df[['Adj. Open', 'Adj. High', 'Adj. Low', 'Adj. Close', 'Adj. Volume',]] # We did this because not all variables might be usefull"
   ]
  },
  {
   "cell_type": "code",
   "execution_count": 134,
   "metadata": {},
   "outputs": [],
   "source": [
    "df[\"HL_PCT\"] = (df[\"Adj. High\"] - df[\"Adj. Close\"]) / df['Adj. Close'] * 100.0"
   ]
  },
  {
   "cell_type": "code",
   "execution_count": 135,
   "metadata": {},
   "outputs": [],
   "source": [
    "df[\"PCT_change\"] = (df[\"Adj. Close\"] - df[\"Adj. Open\"]) / df['Adj. Open'] * 100.0"
   ]
  },
  {
   "cell_type": "code",
   "execution_count": 136,
   "metadata": {},
   "outputs": [],
   "source": [
    "df = df[[\"Adj. Close\", \"HL_PCT\", \"PCT_change\", \"Adj. Volume\"]] # We did this for simplicity. The variable that is most significant is only Adj. Close"
   ]
  },
  {
   "cell_type": "code",
   "execution_count": 137,
   "metadata": {},
   "outputs": [],
   "source": [
    "forecast_col = 'Adj. Close'\n",
    "df.fillna(-99999, inplace = True)"
   ]
  },
  {
   "cell_type": "code",
   "execution_count": 138,
   "metadata": {},
   "outputs": [],
   "source": [
    "forecast_out = int(math.ceil(0.1*len(df)))"
   ]
  },
  {
   "cell_type": "code",
   "execution_count": 139,
   "metadata": {},
   "outputs": [],
   "source": [
    "df[\"label\"] = df[forecast_col].shift(-forecast_out)"
   ]
  },
  {
   "cell_type": "code",
   "execution_count": 140,
   "metadata": {},
   "outputs": [],
   "source": [
    "X = np.array(df.drop(['label'], 1))"
   ]
  },
  {
   "cell_type": "code",
   "execution_count": 141,
   "metadata": {},
   "outputs": [],
   "source": [
    "X = preprocessing.scale(X) # The issue with sparsity is that it very biased or in statistical terms skewed. So, therefore, scaling the data brings all your values onto one scale eliminating the sparsity. In regards to know how it works in mathematical detail, this follows the same concept of Normalization and Standardization. You can do research on those to find out how it works in detail. But to make life simpler the sklearn algorithm does everything for you !"
   ]
  },
  {
   "cell_type": "code",
   "execution_count": 142,
   "metadata": {},
   "outputs": [],
   "source": [
    "X_lately = X[-forecast_out:] # Last 35 days"
   ]
  },
  {
   "cell_type": "code",
   "execution_count": 143,
   "metadata": {},
   "outputs": [],
   "source": [
    "X = X[:-forecast_out]"
   ]
  },
  {
   "cell_type": "code",
   "execution_count": 144,
   "metadata": {},
   "outputs": [],
   "source": [
    "df.dropna(inplace = True)"
   ]
  },
  {
   "cell_type": "code",
   "execution_count": 145,
   "metadata": {},
   "outputs": [],
   "source": [
    "y = np.array(df['label'])"
   ]
  },
  {
   "cell_type": "code",
   "execution_count": 146,
   "metadata": {},
   "outputs": [],
   "source": [
    "X_train, X_test, y_train, y_test = train_test_split(X, y, test_size = 0.2)"
   ]
  },
  {
   "cell_type": "code",
   "execution_count": 147,
   "metadata": {},
   "outputs": [
    {
     "data": {
      "text/plain": [
       "LinearRegression()"
      ]
     },
     "execution_count": 147,
     "metadata": {},
     "output_type": "execute_result"
    }
   ],
   "source": [
    "clf = LinearRegression()\n",
    "clf.fit(X_train, y_train)"
   ]
  },
  {
   "cell_type": "code",
   "execution_count": 148,
   "metadata": {},
   "outputs": [],
   "source": [
    "with open('linearregression.pickle', 'wb') as f:\n",
    "    pickle.dump(clf, f)\n",
    "\n",
    "pickle_in = open('linearregression.pickle', 'rb')\n",
    "clf2 = pickle.load(pickle_in)"
   ]
  },
  {
   "cell_type": "code",
   "execution_count": 149,
   "metadata": {},
   "outputs": [],
   "source": [
    "accuracy = clf.score(X_test, y_test)"
   ]
  },
  {
   "cell_type": "code",
   "execution_count": 150,
   "metadata": {},
   "outputs": [
    {
     "data": {
      "text/plain": [
       "0.8816754867951446"
      ]
     },
     "execution_count": 150,
     "metadata": {},
     "output_type": "execute_result"
    }
   ],
   "source": [
    "accuracy # Accuracy is 97.84% on predicting the prices when shifted 1% of the days"
   ]
  },
  {
   "cell_type": "code",
   "execution_count": 151,
   "metadata": {},
   "outputs": [],
   "source": [
    "# What if we wanted to use SVM\n",
    "clf1 = svm.SVR()\n",
    "clf1.fit(X_train, y_train)\n",
    "accuracy1 = clf1.score(X_test, y_test)"
   ]
  },
  {
   "cell_type": "code",
   "execution_count": 152,
   "metadata": {},
   "outputs": [
    {
     "data": {
      "text/plain": [
       "0.6962219623090322"
      ]
     },
     "execution_count": 152,
     "metadata": {},
     "output_type": "execute_result"
    }
   ],
   "source": [
    "accuracy1 # Accuracy is much less"
   ]
  },
  {
   "cell_type": "code",
   "execution_count": 153,
   "metadata": {},
   "outputs": [],
   "source": [
    "# njobs means the number of jobs done at a time\n",
    "# clf = LinearRegression(n_jobs = 2)"
   ]
  },
  {
   "cell_type": "code",
   "execution_count": 154,
   "metadata": {},
   "outputs": [
    {
     "name": "stdout",
     "output_type": "stream",
     "text": [
      "[ 963.79895305  949.73397849  980.81381905  975.37777422  986.83942381\n",
      "  980.59763273  986.19971791  988.16338259  978.00540964  975.09340972\n",
      " 1005.6822211   995.07520478  978.80762227  961.0937764   964.0570856\n",
      "  979.41702167  977.46693032  996.38677586  998.29520008 1017.41493174\n",
      " 1014.15047312 1030.80766855 1029.65886256 1025.33161107 1014.78620886\n",
      " 1020.69650293 1019.30689352 1014.26338488 1011.70703662 1011.70349281\n",
      " 1019.62512    1008.49573606 1005.51959958  994.47454882 1017.56182647\n",
      " 1013.03243002 1018.78080616 1041.48727277 1036.02079921 1033.47382633\n",
      " 1036.77855151 1035.80748854 1040.74458856 1032.85464294 1033.83567402\n",
      " 1036.24766967 1032.79840539 1063.04479114 1063.01693908 1073.65328791\n",
      " 1069.68591058 1070.69505516 1033.24494329 1026.14133125 1020.68178138\n",
      " 1031.18634625 1028.07038713 1025.50469213 1039.88125289 1039.89311578\n",
      " 1035.87290009 1045.02705175 1050.39217017 1049.70477278 1048.48632591\n",
      " 1053.38710341 1059.44879657 1063.42192245 1066.99456698 1062.52691707\n",
      " 1057.29083783 1064.19084519 1056.36177781 1073.03184762 1063.27409421\n",
      " 1060.85663395 1058.68667276 1066.9876295  1068.95900287 1076.12542841\n",
      " 1076.21133771 1083.87147127 1083.16114936 1084.39474698 1087.53158775\n",
      " 1088.22409061 1083.32548974 1075.49521863 1066.89480805 1045.86259938\n",
      " 1047.08024407 1056.79809297 1054.81859708 1066.93375235 1060.42072298\n",
      " 1059.5334737  1076.3756047  1066.53326061 1069.12553546 1061.34455084\n",
      " 1052.56841204 1056.35481507 1052.18652494 1054.3091208  1051.5219007\n",
      " 1077.48359826 1070.37108599 1071.9252816  1077.41270115 1073.95870964\n",
      " 1104.27877942 1116.35801996 1111.30647851 1113.87600012 1160.90512171\n",
      " 1171.34171055 1177.3011761  1192.23161855 1197.4427351  1189.31470685\n",
      " 1204.62955332 1195.16791657 1191.07456478 1197.0030435  1191.66086819\n",
      " 1202.07818422 1204.25272624 1184.27050681 1193.53049505 1196.71622631\n",
      " 1206.91809115 1214.1426149  1220.26969686 1248.50701295 1241.6395749\n",
      " 1244.96787842 1238.2381201  1235.2002728  1246.03232381 1258.70903317\n",
      " 1251.21880065 1252.27347022 1252.2902167  1226.18580409 1205.27813321\n",
      " 1216.4002007  1214.94249071 1204.41211854 1195.25080488 1223.60610383\n",
      " 1217.35282777 1225.95991649 1221.55601002 1236.21868585 1225.53217718\n",
      " 1194.69678939 1205.93772753 1174.60397272 1166.87381928 1154.43745322\n",
      " 1171.75575279 1167.98677639 1183.77492223 1193.79932563 1191.60965361\n",
      " 1212.39930429 1217.45286844 1220.01946299 1224.2710316  1243.49257543\n",
      " 1241.90845398 1240.45702942 1242.75886964 1254.17714094 1211.15487986\n",
      " 1207.24822998 1194.08295776 1205.05091513 1186.64739007 1188.45609211\n",
      " 1181.21412368 1177.80869535 1181.91576817 1180.93576177 1186.59088323\n",
      " 1176.97279203 1157.58505443 1167.32586691 1172.49807128 1173.23133808\n",
      " 1185.64862198 1165.28017952 1159.5348877  1153.31467035 1182.92070871\n",
      " 1182.0763157  1174.41652271 1166.29231671 1162.53337374 1180.61832598\n",
      " 1184.32956199 1198.47881363 1190.36277892 1181.52063454 1175.35417385\n",
      " 1188.36108729 1179.05104081 1184.27378766 1181.03210507 1190.81709445\n",
      " 1177.00002808 1169.42299734 1163.54816583 1171.12761061 1190.02206096\n",
      " 1186.68143805 1184.25146316 1166.73358844 1176.58542821 1213.97275884\n",
      " 1209.61527132 1220.37502171 1212.12861753 1214.78575874 1210.75313222\n",
      " 1237.1446081  1247.72156562 1244.28090624 1237.29685443 1265.86406127\n",
      " 1260.72929159 1262.82707743 1260.5159675  1266.2735726  1266.91878293\n",
      " 1252.21712222 1254.68740073 1238.80571881 1233.57101655 1242.14020193\n",
      " 1247.95184626 1320.19308206 1296.33329516 1295.84422671 1308.00864695\n",
      " 1304.0648871  1313.2468485  1306.41652743 1313.82616499 1308.01930347\n",
      " 1303.97283793 1306.23152178 1301.10530016 1296.00925396 1316.20249493\n",
      " 1298.86674194 1293.04825709 1315.22488488 1315.3178138  1321.83793179\n",
      " 1344.55902949 1336.10548231 1303.45084176 1296.57638222 1287.04579149\n",
      " 1272.44487857 1295.20473272 1304.98618341 1311.49910795 1313.40739433\n",
      " 1315.66875585 1320.83516211 1313.76174535 1329.07375426 1342.34253492\n",
      " 1358.29873772 1348.67312115 1341.02425684 1338.51241661 1334.25876253\n",
      " 1329.60077992 1325.9005441  1321.66939804 1316.2042471  1352.48954518\n",
      " 1375.31568543 1373.06916974 1390.39788598 1395.14894335 1388.61882008\n",
      " 1387.70465802 1387.97857793 1420.73871801 1421.32177855 1420.51120035\n",
      " 1417.64593958 1427.59249565 1464.4910758  1469.86053765 1466.5365165\n",
      " 1475.84612951 1478.3346006  1488.14109397 1476.33621253 1475.24183452\n",
      " 1479.24413335 1397.59027728 1361.03577972 1384.41029596 1330.29703315\n",
      " 1285.77679874 1317.66547657 1323.23518316 1323.44963095 1350.22523218\n",
      " 1366.75121945 1379.09631271 1394.6137136  1413.36284725 1393.47848663\n",
      " 1411.7130715  1431.8041647  1404.25481924 1388.68524355 1354.40511708\n",
      " 1368.83795679 1380.81032039 1375.7262177  1403.47141348 1415.92630622\n",
      " 1457.75772164 1464.30372186 1440.48744521 1443.28214437 1445.65623602\n",
      " 1422.95432477 1378.74498094 1372.51897567 1378.87065911 1327.91252824\n",
      " 1308.56226306 1319.16661453 1285.03860045] 0.8816754867951446 343\n"
     ]
    }
   ],
   "source": [
    "forecast_set = clf.predict(X_lately)\n",
    "print(forecast_set, accuracy, forecast_out)"
   ]
  },
  {
   "cell_type": "code",
   "execution_count": 155,
   "metadata": {},
   "outputs": [],
   "source": [
    "df['Forecast'] = np.nan"
   ]
  },
  {
   "cell_type": "code",
   "execution_count": 156,
   "metadata": {},
   "outputs": [],
   "source": [
    "last_date = df.iloc[-1].name\n",
    "last_unix = last_date.timestamp()"
   ]
  },
  {
   "cell_type": "code",
   "execution_count": 157,
   "metadata": {},
   "outputs": [],
   "source": [
    "one_day = 86400"
   ]
  },
  {
   "cell_type": "code",
   "execution_count": 158,
   "metadata": {},
   "outputs": [],
   "source": [
    "next_unix = last_unix + one_day"
   ]
  },
  {
   "cell_type": "code",
   "execution_count": 159,
   "metadata": {},
   "outputs": [],
   "source": [
    "# We're iterating through the forecast set taking each forecast day and then setting those as the values in the dataframe\n",
    "for i in forecast_set:\n",
    "    next_date = datetime.datetime.fromtimestamp(next_unix)\n",
    "    next_unix += one_day\n",
    "    df.loc[next_date] = [np.nan for _ in range(len(df.columns) - 1)] + [i]\n",
    "    # .loc references the index for the dataframe"
   ]
  },
  {
   "cell_type": "code",
   "execution_count": 160,
   "metadata": {},
   "outputs": [
    {
     "data": {
      "image/png": "[encoded data removed]",
      "text/plain": [
       "<Figure size 432x288 with 1 Axes>"
      ]
     },
     "metadata": {},
     "output_type": "display_data"
    }
   ],
   "source": [
    "df['Adj. Close'].plot()\n",
    "df['Forecast'].plot()\n",
    "plt.legend(loc = 4)\n",
    "plt.xlabel('Date')\n",
    "plt.ylabel('Price')\n",
    "plt.show()"
   ]
  },
  {
   "cell_type": "code",
   "execution_count": 161,
   "metadata": {},
   "outputs": [],
   "source": [
    "# For loop: The date is the index so when we say df.date, we're saying the index, and if the index doesnt exisit, it's gonna create it, and if it exists it's gonna replace it.\n",
    "# Next, were saying np.nan ...., what that i?s is just a list of values that are np.nan for all the variables. All these are not a number because it's in the future and we dont have information on that data. \n",
    "# +[i] is the forecast. We're just saying that it just this list plus one value so its like thise huge list (variables + 1)"
   ]
  },
  {
   "cell_type": "code",
   "execution_count": 162,
   "metadata": {},
   "outputs": [
    {
     "data": {
      "text/plain": [
       "LinearRegression()"
      ]
     },
     "execution_count": 162,
     "metadata": {},
     "output_type": "execute_result"
    }
   ],
   "source": [
    "clf2 # trial"
   ]
  },
  {
   "cell_type": "code",
   "execution_count": 163,
   "metadata": {},
   "outputs": [],
   "source": [
    "from statistics import mean\n",
    "import numpy as np\n",
    "import matplotlib.pyplot as plt\n",
    "from matplotlib import style"
   ]
  },
  {
   "cell_type": "code",
   "execution_count": 164,
   "metadata": {},
   "outputs": [],
   "source": [
    "xs = np.array([1,2,3,4,5,6], dtype = np.float64)\n",
    "ys = np.array([5,4,6,5,6,7], dtype = np.float64)"
   ]
  },
  {
   "cell_type": "code",
   "execution_count": 165,
   "metadata": {},
   "outputs": [
    {
     "data": {
      "image/png": "[encoded data removed]",
      "text/plain": [
       "<Figure size 432x288 with 1 Axes>"
      ]
     },
     "metadata": {},
     "output_type": "display_data"
    }
   ],
   "source": [
    "plt.scatter(xs,ys)\n",
    "plt.show()"
   ]
  },
  {
   "cell_type": "code",
   "execution_count": 166,
   "metadata": {},
   "outputs": [],
   "source": [
    "def best_fit_slope_and_intercept(xs,ys):\n",
    "    m = ( ((mean(xs) * mean(ys)) - mean(xs * ys)) /\n",
    "         (mean(xs) * mean(xs) - mean(xs**2)))\n",
    "    b = mean(ys) - m * mean(xs)\n",
    "    return m, b"
   ]
  },
  {
   "cell_type": "code",
   "execution_count": 167,
   "metadata": {},
   "outputs": [],
   "source": [
    "m, b = best_fit_slope_and_intercept(xs,ys)"
   ]
  },
  {
   "cell_type": "code",
   "execution_count": 168,
   "metadata": {},
   "outputs": [],
   "source": [
    "def squared_error(ys_orig, ys_line):\n",
    "    return sum((ys_line - ys_orig)**2)"
   ]
  },
  {
   "cell_type": "code",
   "execution_count": 169,
   "metadata": {},
   "outputs": [],
   "source": [
    "def coefficient_of_determination(ys_orig, ys_line):\n",
    "    y_mean_line = [mean(ys_orig) for y in ys_orig]\n",
    "    squared_error_regr = squared_error(ys_orig, ys_line)\n",
    "    squared_error_y_mean = squared_error(ys_orig, y_mean_line)\n",
    "    return 1 - (squared_error_regr / squared_error_y_mean)"
   ]
  },
  {
   "cell_type": "code",
   "execution_count": 170,
   "metadata": {},
   "outputs": [
    {
     "name": "stdout",
     "output_type": "stream",
     "text": [
      "0.42857142857142866 4.0\n"
     ]
    }
   ],
   "source": [
    "print(m,b)"
   ]
  },
  {
   "cell_type": "code",
   "execution_count": 171,
   "metadata": {},
   "outputs": [],
   "source": [
    "regression_line = [(m * x) + b for x in xs]"
   ]
  },
  {
   "cell_type": "code",
   "execution_count": 172,
   "metadata": {},
   "outputs": [
    {
     "data": {
      "text/plain": [
       "[4.428571428571429,\n",
       " 4.857142857142858,\n",
       " 5.2857142857142865,\n",
       " 5.714285714285714,\n",
       " 6.142857142857143,\n",
       " 6.571428571428572]"
      ]
     },
     "execution_count": 172,
     "metadata": {},
     "output_type": "execute_result"
    }
   ],
   "source": [
    "regression_line"
   ]
  },
  {
   "cell_type": "code",
   "execution_count": 173,
   "metadata": {},
   "outputs": [],
   "source": [
    "predict_x = 8\n",
    "predict_y = (m*predict_x) + b"
   ]
  },
  {
   "cell_type": "code",
   "execution_count": 174,
   "metadata": {},
   "outputs": [
    {
     "data": {
      "text/plain": [
       "0.5844155844155845"
      ]
     },
     "execution_count": 174,
     "metadata": {},
     "output_type": "execute_result"
    }
   ],
   "source": [
    "r_squared = coefficient_of_determination(ys, regression_line)\n",
    "r_squared"
   ]
  },
  {
   "cell_type": "code",
   "execution_count": 176,
   "metadata": {},
   "outputs": [
    {
     "data": {
      "image/png": "[encoded data removed]",
      "text/plain": [
       "<Figure size 432x288 with 1 Axes>"
      ]
     },
     "metadata": {},
     "output_type": "display_data"
    }
   ],
   "source": [
    "plt.scatter(xs,ys)\n",
    "plt.scatter(predict_x, predict_y, color = \"blue\")\n",
    "plt.plot(xs, regression_line)\n",
    "plt.show()"
   ]
  },
  {
   "cell_type": "markdown",
   "metadata": {},
   "source": [
    "# Testing Assumptions"
   ]
  },
  {
   "cell_type": "code",
   "execution_count": 177,
   "metadata": {},
   "outputs": [],
   "source": [
    "def create_dataset(hm, variance, step = 2, correlation = False): # hm: how many datapoints, step: how far on average to step up the y-variable\n",
    "    val = 1\n",
    "    ys1 = []\n",
    "    for i in range(hm):\n",
    "        y = val + random.randrange(-variance, variance)\n",
    "        ys1.append(y)\n",
    "        if correlation and correlation == \"pos\":\n",
    "            val += step\n",
    "        elif correlation and correlation == \"neg\":\n",
    "            val -= step\n",
    "    xs1 = [i for i in range(len(ys1))]\n",
    "    \n",
    "    return np.array(xs1, dtype = np.float64), np.array(ys1, dtype = np.float64)"
   ]
  },
  {
   "cell_type": "code",
   "execution_count": 178,
   "metadata": {},
   "outputs": [],
   "source": [
    "xs1, ys1 = create_dataset(40, 10, 2, correlation = 'pos')"
   ]
  },
  {
   "cell_type": "code",
   "execution_count": 179,
   "metadata": {},
   "outputs": [],
   "source": [
    "m1, b1 = best_fit_slope_and_intercept(xs1,ys1)"
   ]
  },
  {
   "cell_type": "code",
   "execution_count": 180,
   "metadata": {},
   "outputs": [],
   "source": [
    "regression_line = [(m1 * x) + b1 for x in xs1]"
   ]
  },
  {
   "cell_type": "code",
   "execution_count": 181,
   "metadata": {},
   "outputs": [],
   "source": [
    "predict_x = 8\n",
    "predict_y = (m1*predict_x) + b1"
   ]
  },
  {
   "cell_type": "code",
   "execution_count": 182,
   "metadata": {},
   "outputs": [
    {
     "data": {
      "image/png": "[encoded data removed]",
      "text/plain": [
       "<Figure size 432x288 with 1 Axes>"
      ]
     },
     "metadata": {},
     "output_type": "display_data"
    }
   ],
   "source": [
    "plt.scatter(xs1,ys1)\n",
    "plt.scatter(predict_x, predict_y, color = \"blue\")\n",
    "plt.plot(xs1, regression_line)\n",
    "plt.show()"
   ]
  },
  {
   "cell_type": "code",
   "execution_count": 183,
   "metadata": {},
   "outputs": [
    {
     "data": {
      "text/plain": [
       "0.9372670383634044"
      ]
     },
     "execution_count": 183,
     "metadata": {},
     "output_type": "execute_result"
    }
   ],
   "source": [
    "r_squared1 = coefficient_of_determination(ys1, regression_line)\n",
    "r_squared1"
   ]
  },
  {
   "cell_type": "code",
   "execution_count": 184,
   "metadata": {},
   "outputs": [],
   "source": [
    "# As the variance decrease, the coefficient of determination will increase"
   ]
  },
  {
   "cell_type": "code",
   "execution_count": 185,
   "metadata": {},
   "outputs": [
    {
     "data": {
      "image/png": "[encoded data removed]",
      "text/plain": [
       "<Figure size 432x288 with 1 Axes>"
      ]
     },
     "metadata": {},
     "output_type": "display_data"
    },
    {
     "data": {
      "text/plain": [
       "0.020740553953723095"
      ]
     },
     "execution_count": 185,
     "metadata": {},
     "output_type": "execute_result"
    }
   ],
   "source": [
    "xs2, ys2 = create_dataset(40, 10, 2, correlation = False)\n",
    "m2, b2 = best_fit_slope_and_intercept(xs2,ys2)\n",
    "regression_line = [(m2 * x) + b2 for x in xs2]\n",
    "predict_x = 8\n",
    "predict_y = (m2*predict_x) + b2\n",
    "plt.scatter(xs2,ys2)\n",
    "plt.scatter(predict_x, predict_y, color = \"blue\")\n",
    "plt.plot(xs2, regression_line)\n",
    "plt.show()\n",
    "r_squared2 = coefficient_of_determination(ys2, regression_line)\n",
    "r_squared2"
   ]
  },
  {
   "cell_type": "code",
   "execution_count": 186,
   "metadata": {},
   "outputs": [],
   "source": [
    "# Since the datapoints are not correlated, the data is not linear. Thus bad regression fit"
   ]
  }
 ],
 "metadata": {
  "kernelspec": {
   "display_name": "Python 3",
   "language": "python",
   "name": "python3"
  },
  "language_info": {
   "codemirror_mode": {
    "name": "ipython",
    "version": 3
   },
   "file_extension": ".py",
   "mimetype": "text/x-python",
   "name": "python",
   "nbconvert_exporter": "python",
   "pygments_lexer": "ipython3",
   "version": "3.8.8"
  }
 },
 "nbformat": 4,
 "nbformat_minor": 4
}
