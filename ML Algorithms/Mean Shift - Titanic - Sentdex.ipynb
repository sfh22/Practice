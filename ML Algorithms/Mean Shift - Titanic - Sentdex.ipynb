{
 "cells": [
  {
   "cell_type": "code",
   "execution_count": null,
   "metadata": {
    "scrolled": false
   },
   "outputs": [],
   "source": [
    "import numpy as np\n",
    "from sklearn.cluster import MeanShift, KMeans\n",
    "from sklearn import preprocessing\n",
    "from sklearn.model_selection import cross_validate\n",
    "from sklearn.model_selection import train_test_split\n",
    "import pandas as pd\n",
    "import matplotlib.pyplot as plt"
   ]
  },
  {
   "cell_type": "code",
   "execution_count": null,
   "metadata": {
    "scrolled": false
   },
   "outputs": [],
   "source": [
    "'''\n",
    "Pclass Passenger Class (1 = 1st; 2 = 2nd; 3 = 3rd)\n",
    "survival Survival (0 = No; 1 = Yes)\n",
    "name Name\n",
    "sex Sex\n",
    "age Age\n",
    "sibsp Number of Siblings/Spouses Aboard\n",
    "parch Number of Parents/Children Aboard\n",
    "ticket Ticket Number\n",
    "fare Passenger Fare (British pound)\n",
    "cabin Cabin\n",
    "embarked Port of Embarkation (C = Cherbourg; Q = Queenstown; S = Southampton)\n",
    "boat Lifeboat\n",
    "body Body Identification Number\n",
    "home.dest Home/Destination\n",
    "\n",
    "'''"
   ]
  },
  {
   "cell_type": "code",
   "execution_count": null,
   "metadata": {
    "scrolled": false
   },
   "outputs": [],
   "source": [
    "df = pd.read_excel(r\"C:\\Users\\samer\\Desktop\\Machine Learning\\Complementary Stuff\\titanic.xls\")"
   ]
  },
  {
   "cell_type": "code",
   "execution_count": null,
   "metadata": {
    "scrolled": false
   },
   "outputs": [],
   "source": [
    "original_df = pd.DataFrame.copy(df)\n",
    "df.drop(['body','name'], 1, inplace=True)\n",
    "df.fillna(0,inplace=True)"
   ]
  },
  {
   "cell_type": "code",
   "execution_count": null,
   "metadata": {
    "scrolled": false
   },
   "outputs": [],
   "source": [
    "def handle_non_numerical_data(df):\n",
    "    \n",
    "    # handling non-numerical data: must convert.\n",
    "    columns = df.columns.values\n",
    "\n",
    "    for column in columns:\n",
    "        text_digit_vals = {}\n",
    "        def convert_to_int(val):\n",
    "            return text_digit_vals[val]\n",
    "\n",
    "        #print(column,df[column].dtype)\n",
    "        if df[column].dtype != np.int64 and df[column].dtype != np.float64:\n",
    "            \n",
    "            column_contents = df[column].values.tolist()\n",
    "            #finding just the uniques\n",
    "            unique_elements = set(column_contents)\n",
    "            # great, found them. \n",
    "            x = 0\n",
    "            for unique in unique_elements:\n",
    "                if unique not in text_digit_vals:\n",
    "                    # creating dict that contains new\n",
    "                    # id per unique string\n",
    "                    text_digit_vals[unique] = x\n",
    "                    x+=1\n",
    "            # now we map the new \"id\" vlaue\n",
    "            # to replace the string. \n",
    "            df[column] = list(map(convert_to_int,df[column]))\n",
    "\n",
    "    return df"
   ]
  },
  {
   "cell_type": "code",
   "execution_count": null,
   "metadata": {
    "scrolled": false
   },
   "outputs": [],
   "source": [
    "df = handle_non_numerical_data(df)\n",
    "df.drop(['ticket','home.dest'], 1, inplace=True)"
   ]
  },
  {
   "cell_type": "code",
   "execution_count": null,
   "metadata": {
    "scrolled": false
   },
   "outputs": [],
   "source": [
    "X = np.array(df.drop(['survived'], 1).astype(float))\n",
    "X = preprocessing.scale(X)\n",
    "y = np.array(df['survived'])"
   ]
  },
  {
   "cell_type": "code",
   "execution_count": null,
   "metadata": {
    "scrolled": false
   },
   "outputs": [],
   "source": [
    "clf = MeanShift()\n",
    "clf.fit(X)"
   ]
  },
  {
   "cell_type": "code",
   "execution_count": null,
   "metadata": {
    "scrolled": false
   },
   "outputs": [],
   "source": [
    "# Now that we've created the fitment, we can get some attributes from our clf object:\n",
    "labels = clf.labels_\n",
    "cluster_centers = clf.cluster_centers_"
   ]
  },
  {
   "cell_type": "code",
   "execution_count": null,
   "metadata": {
    "scrolled": false
   },
   "outputs": [],
   "source": [
    "# Next, we're going to add a new column to our original dataframe:\n",
    "original_df['cluster_group']=np.nan"
   ]
  },
  {
   "cell_type": "code",
   "execution_count": null,
   "metadata": {
    "scrolled": false
   },
   "outputs": [],
   "source": [
    "# Now, we can iterate through the labels and populate the labels to the empty column:\n",
    "for i in range(len(X)):\n",
    "    original_df['cluster_group'].iloc[i] = labels[i]"
   ]
  },
  {
   "cell_type": "code",
   "execution_count": 27,
   "metadata": {
    "scrolled": false
   },
   "outputs": [
    {
     "name": "stdout",
     "output_type": "stream",
     "text": [
      "{0: 0.36998394863563405, 1: 0.6938775510204082, 2: 1.0, 3: 0.1}\n"
     ]
    }
   ],
   "source": [
    "# Next, we can check the survival rates for each of the groups we happen to find:\n",
    "n_clusters_ = len(np.unique(labels))\n",
    "survival_rates = {}\n",
    "for i in range(n_clusters_):\n",
    "    temp_df = original_df[ (original_df['cluster_group']==float(i)) ]\n",
    "    #print(temp_df.head())\n",
    "\n",
    "    survival_cluster = temp_df[  (temp_df['survived'] == 1) ]\n",
    "\n",
    "    survival_rate = len(survival_cluster) / len(temp_df)\n",
    "    #print(i,survival_rate)\n",
    "    survival_rates[i] = survival_rate\n",
    "    \n",
    "print(survival_rates)"
   ]
  },
  {
   "cell_type": "code",
   "execution_count": null,
   "metadata": {
    "scrolled": false
   },
   "outputs": [],
   "source": [
    "# Again, you may get more groups. I got three here, but I've personally got \n",
    "# up to six groups on this same dataset. Right away, we see that group 0 has \n",
    "# a 38% survival rate, group 1 has a 91% survival rate, and group 2 has a 10%\n",
    "# survival rate. This is somewhat curious as we know there were three actual\n",
    "# \"passenger classes\" on the ship. I immediately wonder if 0 is the second-\n",
    "# class group, 1 is first-class, and 2 is 3rd class. The classes on the ship \n",
    "# were ordered with 3rd class on the bottom, and first class on the top. The \n",
    "# bottom flooded first, and the top is where the life-boats were. I can look \n",
    "# deeper by doing:"
   ]
  },
  {
   "cell_type": "code",
   "execution_count": 16,
   "metadata": {
    "scrolled": true
   },
   "outputs": [
    {
     "name": "stdout",
     "output_type": "stream",
     "text": [
      "      pclass  survived                                           name     sex  \\\n",
      "0          1         1                  Allen, Miss. Elisabeth Walton  female   \n",
      "5          1         1                            Anderson, Mr. Harry    male   \n",
      "6          1         1              Andrews, Miss. Kornelia Theodosia  female   \n",
      "7          1         0                         Andrews, Mr. Thomas Jr    male   \n",
      "8          1         1  Appleton, Mrs. Edward Dale (Charlotte Lamson)  female   \n",
      "...      ...       ...                                            ...     ...   \n",
      "1304       3         0                           Zabour, Miss. Hileni  female   \n",
      "1305       3         0                          Zabour, Miss. Thamine  female   \n",
      "1306       3         0                      Zakarian, Mr. Mapriededer    male   \n",
      "1307       3         0                            Zakarian, Mr. Ortin    male   \n",
      "1308       3         0                             Zimmerman, Mr. Leo    male   \n",
      "\n",
      "       age  sibsp  parch  ticket      fare cabin embarked boat   body  \\\n",
      "0     29.0      0      0   24160  211.3375    B5        S    2    NaN   \n",
      "5     48.0      0      0   19952   26.5500   E12        S    3    NaN   \n",
      "6     63.0      1      0   13502   77.9583    D7        S   10    NaN   \n",
      "7     39.0      0      0  112050    0.0000   A36        S  NaN    NaN   \n",
      "8     53.0      2      0   11769   51.4792  C101        S    D    NaN   \n",
      "...    ...    ...    ...     ...       ...   ...      ...  ...    ...   \n",
      "1304  14.5      1      0    2665   14.4542   NaN        C  NaN  328.0   \n",
      "1305   NaN      1      0    2665   14.4542   NaN        C  NaN    NaN   \n",
      "1306  26.5      0      0    2656    7.2250   NaN        C  NaN  304.0   \n",
      "1307  27.0      0      0    2670    7.2250   NaN        C  NaN    NaN   \n",
      "1308  29.0      0      0  315082    7.8750   NaN        S  NaN    NaN   \n",
      "\n",
      "                home.dest  cluster_group  \n",
      "0            St Louis, MO            0.0  \n",
      "5            New York, NY            0.0  \n",
      "6              Hudson, NY            0.0  \n",
      "7             Belfast, NI            0.0  \n",
      "8     Bayside, Queens, NY            0.0  \n",
      "...                   ...            ...  \n",
      "1304                  NaN            0.0  \n",
      "1305                  NaN            0.0  \n",
      "1306                  NaN            0.0  \n",
      "1307                  NaN            0.0  \n",
      "1308                  NaN            0.0  \n",
      "\n",
      "[1246 rows x 15 columns]\n"
     ]
    }
   ],
   "source": [
    "print(original_df[ (original_df['cluster_group']==0) ])"
   ]
  },
  {
   "cell_type": "code",
   "execution_count": 17,
   "metadata": {
    "scrolled": true
   },
   "outputs": [
    {
     "name": "stdout",
     "output_type": "stream",
     "text": [
      "     pclass  survived                                               name  \\\n",
      "1         1         1                     Allison, Master. Hudson Trevor   \n",
      "2         1         0                       Allison, Miss. Helen Loraine   \n",
      "3         1         0               Allison, Mr. Hudson Joshua Creighton   \n",
      "4         1         0    Allison, Mrs. Hudson J C (Bessie Waldo Daniels)   \n",
      "10        1         0                             Astor, Col. John Jacob   \n",
      "11        1         1  Astor, Mrs. John Jacob (Madeleine Talmadge Force)   \n",
      "16        1         0                           Baxter, Mr. Quigg Edmond   \n",
      "17        1         1    Baxter, Mrs. James (Helene DeLaudeniere Chaput)   \n",
      "23        1         1                              Bidois, Miss. Rosalie   \n",
      "24        1         1                                  Bird, Miss. Ellen   \n",
      "35        1         1                           Bowen, Miss. Grace Scott   \n",
      "57        1         1          Carter, Mrs. William Ernest (Lucile Polk)   \n",
      "66        1         1                        Chaudanson, Miss. Victorine   \n",
      "78        1         1  Compton, Mrs. Alexander Taylor (Mary Eliza Ing...   \n",
      "97        1         1  Douglas, Mrs. Frederick Charles (Mary Helene B...   \n",
      "103       1         1                      Endres, Miss. Caroline Louise   \n",
      "111       1         1                     Fortune, Miss. Alice Elizabeth   \n",
      "112       1         1                         Fortune, Miss. Ethel Flora   \n",
      "113       1         1                         Fortune, Miss. Mabel Helen   \n",
      "114       1         0                     Fortune, Mr. Charles Alexander   \n",
      "115       1         0                                  Fortune, Mr. Mark   \n",
      "116       1         1                Fortune, Mrs. Mark (Mary McDougald)   \n",
      "123       1         1                   Frolicher-Stehli, Mr. Maxmillian   \n",
      "124       1         1  Frolicher-Stehli, Mrs. Maxmillian (Margaretha ...   \n",
      "129       1         1                               Geiger, Miss. Amalie   \n",
      "139       1         1      Graham, Mrs. William Thompson (Edith Junkins)   \n",
      "173       1         0                                 Keeping, Mr. Edwin   \n",
      "192       1         1                               Lurette, Miss. Elise   \n",
      "193       1         1                  Madill, Miss. Georgette Alexandra   \n",
      "215       1         0                         Newell, Mr. Arthur Webster   \n",
      "238       1         1  Robert, Mrs. Edward Scott (Elisabeth Walton Mc...   \n",
      "249       1         1                        Ryerson, Master. John Borie   \n",
      "250       1         1                         Ryerson, Miss. Emily Borie   \n",
      "251       1         1              Ryerson, Miss. Susan Parker \"Suzette\"   \n",
      "252       1         0                         Ryerson, Mr. Arthur Larned   \n",
      "253       1         1    Ryerson, Mrs. Arthur Larned (Emily Maria Borie)   \n",
      "273       1         1                    Spedden, Master. Robert Douglas   \n",
      "274       1         1                       Spedden, Mr. Frederic Oakley   \n",
      "275       1         1  Spedden, Mrs. Frederic Oakley (Margaretta Corn...   \n",
      "285       1         0                                 Straus, Mr. Isidor   \n",
      "286       1         0             Straus, Mrs. Isidor (Rosalie Ida Blun)   \n",
      "295       1         1                        Thayer, Mr. John Borland Jr   \n",
      "296       1         1  Thayer, Mrs. John Borland (Marian Longstreth M...   \n",
      "309       1         1                           Wick, Miss. Mary Natalie   \n",
      "310       1         0                           Wick, Mr. George Dennick   \n",
      "311       1         1         Wick, Mrs. George Dennick (Mary Hitchcock)   \n",
      "312       1         0                         Widener, Mr. George Dunton   \n",
      "313       1         0                          Widener, Mr. Harry Elkins   \n",
      "314       1         1       Widener, Mrs. George Dunton (Eleanor Elkins)   \n",
      "\n",
      "        sex      age  sibsp  parch    ticket      fare            cabin  \\\n",
      "1      male   0.9167      1      2    113781  151.5500          C22 C26   \n",
      "2    female   2.0000      1      2    113781  151.5500          C22 C26   \n",
      "3      male  30.0000      1      2    113781  151.5500          C22 C26   \n",
      "4    female  25.0000      1      2    113781  151.5500          C22 C26   \n",
      "10     male  47.0000      1      0  PC 17757  227.5250          C62 C64   \n",
      "11   female  18.0000      1      0  PC 17757  227.5250          C62 C64   \n",
      "16     male  24.0000      0      1  PC 17558  247.5208          B58 B60   \n",
      "17   female  50.0000      0      1  PC 17558  247.5208          B58 B60   \n",
      "23   female  42.0000      0      0  PC 17757  227.5250              NaN   \n",
      "24   female  29.0000      0      0  PC 17483  221.7792              C97   \n",
      "35   female  45.0000      0      0  PC 17608  262.3750              NaN   \n",
      "57   female  36.0000      1      2    113760  120.0000          B96 B98   \n",
      "66   female  36.0000      0      0  PC 17608  262.3750              B61   \n",
      "78   female  64.0000      0      2  PC 17756   83.1583              E45   \n",
      "97   female  27.0000      1      1  PC 17558  247.5208          B58 B60   \n",
      "103  female  38.0000      0      0  PC 17757  227.5250              C45   \n",
      "111  female  24.0000      3      2     19950  263.0000      C23 C25 C27   \n",
      "112  female  28.0000      3      2     19950  263.0000      C23 C25 C27   \n",
      "113  female  23.0000      3      2     19950  263.0000      C23 C25 C27   \n",
      "114    male  19.0000      3      2     19950  263.0000      C23 C25 C27   \n",
      "115    male  64.0000      1      4     19950  263.0000      C23 C25 C27   \n",
      "116  female  60.0000      1      4     19950  263.0000      C23 C25 C27   \n",
      "123    male  60.0000      1      1     13567   79.2000              B41   \n",
      "124  female  48.0000      1      1     13567   79.2000              B41   \n",
      "129  female  35.0000      0      0    113503  211.5000             C130   \n",
      "139  female  58.0000      0      1  PC 17582  153.4625             C125   \n",
      "173    male  32.5000      0      0    113503  211.5000             C132   \n",
      "192  female  58.0000      0      0  PC 17569  146.5208              B80   \n",
      "193  female  15.0000      0      1     24160  211.3375               B5   \n",
      "215    male  58.0000      0      2     35273  113.2750              D48   \n",
      "238  female  43.0000      0      1     24160  211.3375               B3   \n",
      "249    male  13.0000      2      2  PC 17608  262.3750  B57 B59 B63 B66   \n",
      "250  female  18.0000      2      2  PC 17608  262.3750  B57 B59 B63 B66   \n",
      "251  female  21.0000      2      2  PC 17608  262.3750  B57 B59 B63 B66   \n",
      "252    male  61.0000      1      3  PC 17608  262.3750  B57 B59 B63 B66   \n",
      "253  female  48.0000      1      3  PC 17608  262.3750  B57 B59 B63 B66   \n",
      "273    male   6.0000      0      2     16966  134.5000              E34   \n",
      "274    male  45.0000      1      1     16966  134.5000              E34   \n",
      "275  female  40.0000      1      1     16966  134.5000              E34   \n",
      "285    male  67.0000      1      0  PC 17483  221.7792          C55 C57   \n",
      "286  female  63.0000      1      0  PC 17483  221.7792          C55 C57   \n",
      "295    male  17.0000      0      2     17421  110.8833              C70   \n",
      "296  female  39.0000      1      1     17421  110.8833              C68   \n",
      "309  female  31.0000      0      2     36928  164.8667               C7   \n",
      "310    male  57.0000      1      1     36928  164.8667              NaN   \n",
      "311  female  45.0000      1      1     36928  164.8667              NaN   \n",
      "312    male  50.0000      1      1    113503  211.5000              C80   \n",
      "313    male  27.0000      0      2    113503  211.5000              C82   \n",
      "314  female  50.0000      1      1    113503  211.5000              C80   \n",
      "\n",
      "    embarked boat   body                        home.dest  cluster_group  \n",
      "1          S   11    NaN  Montreal, PQ / Chesterville, ON            1.0  \n",
      "2          S  NaN    NaN  Montreal, PQ / Chesterville, ON            1.0  \n",
      "3          S  NaN  135.0  Montreal, PQ / Chesterville, ON            1.0  \n",
      "4          S  NaN    NaN  Montreal, PQ / Chesterville, ON            1.0  \n",
      "10         C  NaN  124.0                     New York, NY            1.0  \n",
      "11         C    4    NaN                     New York, NY            1.0  \n",
      "16         C  NaN    NaN                     Montreal, PQ            1.0  \n",
      "17         C    6    NaN                     Montreal, PQ            1.0  \n",
      "23         C    4    NaN                              NaN            1.0  \n",
      "24         S    8    NaN                              NaN            1.0  \n",
      "35         C    4    NaN                  Cooperstown, NY            1.0  \n",
      "57         S    4    NaN                    Bryn Mawr, PA            1.0  \n",
      "66         C    4    NaN                              NaN            1.0  \n",
      "78         C   14    NaN                     Lakewood, NJ            1.0  \n",
      "97         C    6    NaN                     Montreal, PQ            1.0  \n",
      "103        C    4    NaN                     New York, NY            1.0  \n",
      "111        S   10    NaN                     Winnipeg, MB            1.0  \n",
      "112        S   10    NaN                     Winnipeg, MB            1.0  \n",
      "113        S   10    NaN                     Winnipeg, MB            1.0  \n",
      "114        S  NaN    NaN                     Winnipeg, MB            1.0  \n",
      "115        S  NaN    NaN                     Winnipeg, MB            1.0  \n",
      "116        S   10    NaN                     Winnipeg, MB            1.0  \n",
      "123        C    5    NaN              Zurich, Switzerland            1.0  \n",
      "124        C    5    NaN              Zurich, Switzerland            1.0  \n",
      "129        C    4    NaN                              NaN            1.0  \n",
      "139        S    3    NaN                    Greenwich, CT            1.0  \n",
      "173        C  NaN   45.0                              NaN            1.0  \n",
      "192        C  NaN    NaN                              NaN            1.0  \n",
      "193        S    2    NaN                     St Louis, MO            1.0  \n",
      "215        C  NaN  122.0                    Lexington, MA            1.0  \n",
      "238        S    2    NaN                     St Louis, MO            1.0  \n",
      "249        C    4    NaN  Haverford, PA / Cooperstown, NY            1.0  \n",
      "250        C    4    NaN  Haverford, PA / Cooperstown, NY            1.0  \n",
      "251        C    4    NaN  Haverford, PA / Cooperstown, NY            1.0  \n",
      "252        C  NaN    NaN  Haverford, PA / Cooperstown, NY            1.0  \n",
      "253        C    4    NaN  Haverford, PA / Cooperstown, NY            1.0  \n",
      "273        C    3    NaN                  Tuxedo Park, NY            1.0  \n",
      "274        C    3    NaN                  Tuxedo Park, NY            1.0  \n",
      "275        C    3    NaN                  Tuxedo Park, NY            1.0  \n",
      "285        S  NaN   96.0                     New York, NY            1.0  \n",
      "286        S  NaN    NaN                     New York, NY            1.0  \n",
      "295        C    B    NaN                    Haverford, PA            1.0  \n",
      "296        C    4    NaN                    Haverford, PA            1.0  \n",
      "309        S    8    NaN                   Youngstown, OH            1.0  \n",
      "310        S  NaN    NaN                   Youngstown, OH            1.0  \n",
      "311        S    8    NaN                   Youngstown, OH            1.0  \n",
      "312        C  NaN    NaN                  Elkins Park, PA            1.0  \n",
      "313        C  NaN    NaN                  Elkins Park, PA            1.0  \n",
      "314        C    4    NaN                  Elkins Park, PA            1.0  \n"
     ]
    }
   ],
   "source": [
    "print(original_df[ (original_df['cluster_group']==1) ])"
   ]
  },
  {
   "cell_type": "code",
   "execution_count": 18,
   "metadata": {
    "scrolled": true
   },
   "outputs": [
    {
     "name": "stdout",
     "output_type": "stream",
     "text": [
      "     pclass  survived                                               name  \\\n",
      "49        1         1                 Cardeza, Mr. Thomas Drake Martinez   \n",
      "50        1         1  Cardeza, Mrs. James Warburton Martinez (Charlo...   \n",
      "183       1         1                             Lesurer, Mr. Gustave J   \n",
      "302       1         1                                   Ward, Miss. Anna   \n",
      "\n",
      "        sex   age  sibsp  parch    ticket      fare        cabin embarked  \\\n",
      "49     male  36.0      0      1  PC 17755  512.3292  B51 B53 B55        C   \n",
      "50   female  58.0      0      1  PC 17755  512.3292  B51 B53 B55        C   \n",
      "183    male  35.0      0      0  PC 17755  512.3292         B101        C   \n",
      "302  female  35.0      0      0  PC 17755  512.3292          NaN        C   \n",
      "\n",
      "    boat  body                                       home.dest  cluster_group  \n",
      "49     3   NaN  Austria-Hungary / Germantown, Philadelphia, PA            2.0  \n",
      "50     3   NaN                    Germantown, Philadelphia, PA            2.0  \n",
      "183    3   NaN                                             NaN            2.0  \n",
      "302    3   NaN                                             NaN            2.0  \n"
     ]
    }
   ],
   "source": [
    "print(original_df[ (original_df['cluster_group']==2) ])"
   ]
  },
  {
   "cell_type": "code",
   "execution_count": 19,
   "metadata": {
    "scrolled": true
   },
   "outputs": [
    {
     "name": "stdout",
     "output_type": "stream",
     "text": [
      "      pclass  survived                                               name  \\\n",
      "629        3         0                        Andersson, Mr. Anders Johan   \n",
      "632        3         0  Andersson, Mrs. Anders Johan (Alfrida Konstant...   \n",
      "644        3         0         Asplund, Mr. Carl Oscar Vilhelm Gustafsson   \n",
      "646        3         1  Asplund, Mrs. Carl Oscar (Selma Augusta Emilia...   \n",
      "831        3         0                     Goodwin, Mr. Charles Frederick   \n",
      "832        3         0            Goodwin, Mrs. Frederick (Augusta Tyler)   \n",
      "1106       3         0             Panula, Mrs. Juha (Maria Emilia Ojala)   \n",
      "1146       3         0               Rice, Mrs. William (Margaret Norton)   \n",
      "1179       3         0                              Sage, Mr. John George   \n",
      "1180       3         0                     Sage, Mrs. John (Annie Bullen)   \n",
      "\n",
      "         sex   age  sibsp  parch    ticket     fare cabin embarked boat  \\\n",
      "629     male  39.0      1      5    347082  31.2750   NaN        S  NaN   \n",
      "632   female  39.0      1      5    347082  31.2750   NaN        S  NaN   \n",
      "644     male  40.0      1      5    347077  31.3875   NaN        S  NaN   \n",
      "646   female  38.0      1      5    347077  31.3875   NaN        S   15   \n",
      "831     male  40.0      1      6   CA 2144  46.9000   NaN        S  NaN   \n",
      "832   female  43.0      1      6   CA 2144  46.9000   NaN        S  NaN   \n",
      "1106  female  41.0      0      5   3101295  39.6875   NaN        S  NaN   \n",
      "1146  female  39.0      0      5    382652  29.1250   NaN        Q  NaN   \n",
      "1179    male   NaN      1      9  CA. 2343  69.5500   NaN        S  NaN   \n",
      "1180  female   NaN      1      9  CA. 2343  69.5500   NaN        S  NaN   \n",
      "\n",
      "       body                             home.dest  cluster_group  \n",
      "629     NaN                   Sweden Winnipeg, MN            3.0  \n",
      "632     NaN                   Sweden Winnipeg, MN            3.0  \n",
      "644   142.0                 Sweden  Worcester, MA            3.0  \n",
      "646     NaN                 Sweden  Worcester, MA            3.0  \n",
      "831     NaN  Wiltshire, England Niagara Falls, NY            3.0  \n",
      "832     NaN  Wiltshire, England Niagara Falls, NY            3.0  \n",
      "1106    NaN                                   NaN            3.0  \n",
      "1146  327.0                                   NaN            3.0  \n",
      "1179    NaN                                   NaN            3.0  \n",
      "1180    NaN                                   NaN            3.0  \n"
     ]
    }
   ],
   "source": [
    "print(original_df[ (original_df['cluster_group']==3) ])"
   ]
  },
  {
   "cell_type": "code",
   "execution_count": 20,
   "metadata": {
    "scrolled": true
   },
   "outputs": [
    {
     "name": "stdout",
     "output_type": "stream",
     "text": [
      "            pclass     survived         age        sibsp        parch  \\\n",
      "count  1246.000000  1246.000000  985.000000  1246.000000  1246.000000   \n",
      "mean      2.344302     0.369984   29.375888     0.484751     0.302568   \n",
      "std       0.812203     0.482994   14.164671     1.050229     0.656712   \n",
      "min       1.000000     0.000000    0.166700     0.000000     0.000000   \n",
      "25%       2.000000     0.000000   21.000000     0.000000     0.000000   \n",
      "50%       3.000000     0.000000   28.000000     0.000000     0.000000   \n",
      "75%       3.000000     1.000000   37.000000     1.000000     0.000000   \n",
      "max       3.000000     1.000000   80.000000     8.000000     4.000000   \n",
      "\n",
      "              fare        body  cluster_group  \n",
      "count  1245.000000  114.000000         1246.0  \n",
      "mean     25.189116  161.991228            0.0  \n",
      "std      28.336017   98.488173            0.0  \n",
      "min       0.000000    1.000000            0.0  \n",
      "25%       7.895800   70.500000            0.0  \n",
      "50%      13.416700  165.500000            0.0  \n",
      "75%      27.750000  257.500000            0.0  \n",
      "max     227.525000  328.000000            0.0  \n"
     ]
    }
   ],
   "source": [
    "print(original_df[ (original_df['cluster_group']==0) ].describe())"
   ]
  },
  {
   "cell_type": "code",
   "execution_count": 21,
   "metadata": {},
   "outputs": [
    {
     "name": "stdout",
     "output_type": "stream",
     "text": [
      "       pclass   survived        age      sibsp      parch        fare  \\\n",
      "count    49.0  49.000000  49.000000  49.000000  49.000000   49.000000   \n",
      "mean      1.0   0.693878  37.498300   0.836735   1.326531  198.238435   \n",
      "std       0.0   0.465657  17.606277   0.874332   1.028505   58.926892   \n",
      "min       1.0   0.000000   0.916700   0.000000   0.000000   79.200000   \n",
      "25%       1.0   0.000000  24.000000   0.000000   1.000000  151.550000   \n",
      "50%       1.0   1.000000  38.000000   1.000000   1.000000  211.500000   \n",
      "75%       1.0   1.000000  50.000000   1.000000   2.000000  262.375000   \n",
      "max       1.0   1.000000  67.000000   3.000000   4.000000  263.000000   \n",
      "\n",
      "             body  cluster_group  \n",
      "count    5.000000           49.0  \n",
      "mean   104.400000            1.0  \n",
      "std     36.156604            0.0  \n",
      "min     45.000000            1.0  \n",
      "25%     96.000000            1.0  \n",
      "50%    122.000000            1.0  \n",
      "75%    124.000000            1.0  \n",
      "max    135.000000            1.0  \n"
     ]
    }
   ],
   "source": [
    "print(original_df[ (original_df['cluster_group']==1) ].describe())"
   ]
  },
  {
   "cell_type": "code",
   "execution_count": 23,
   "metadata": {},
   "outputs": [
    {
     "name": "stdout",
     "output_type": "stream",
     "text": [
      "       pclass  survived        age  sibsp    parch      fare  body  \\\n",
      "count     4.0       4.0   4.000000    4.0  4.00000    4.0000   0.0   \n",
      "mean      1.0       1.0  41.000000    0.0  0.50000  512.3292   NaN   \n",
      "std       0.0       0.0  11.343133    0.0  0.57735    0.0000   NaN   \n",
      "min       1.0       1.0  35.000000    0.0  0.00000  512.3292   NaN   \n",
      "25%       1.0       1.0  35.000000    0.0  0.00000  512.3292   NaN   \n",
      "50%       1.0       1.0  35.500000    0.0  0.50000  512.3292   NaN   \n",
      "75%       1.0       1.0  41.500000    0.0  1.00000  512.3292   NaN   \n",
      "max       1.0       1.0  58.000000    0.0  1.00000  512.3292   NaN   \n",
      "\n",
      "       cluster_group  \n",
      "count            4.0  \n",
      "mean             2.0  \n",
      "std              0.0  \n",
      "min              2.0  \n",
      "25%              2.0  \n",
      "50%              2.0  \n",
      "75%              2.0  \n",
      "max              2.0  \n"
     ]
    }
   ],
   "source": [
    "print(original_df[ (original_df['cluster_group']==2) ].describe())"
   ]
  },
  {
   "cell_type": "code",
   "execution_count": 24,
   "metadata": {},
   "outputs": [
    {
     "name": "stdout",
     "output_type": "stream",
     "text": [
      "       pclass   survived        age      sibsp      parch       fare  \\\n",
      "count    10.0  10.000000   8.000000  10.000000  10.000000  10.000000   \n",
      "mean      3.0   0.100000  39.875000   0.800000   6.000000  42.703750   \n",
      "std       0.0   0.316228   1.552648   0.421637   1.632993  15.590194   \n",
      "min       3.0   0.000000  38.000000   0.000000   5.000000  29.125000   \n",
      "25%       3.0   0.000000  39.000000   1.000000   5.000000  31.303125   \n",
      "50%       3.0   0.000000  39.500000   1.000000   5.000000  35.537500   \n",
      "75%       3.0   0.000000  40.250000   1.000000   6.000000  46.900000   \n",
      "max       3.0   1.000000  43.000000   1.000000   9.000000  69.550000   \n",
      "\n",
      "             body  cluster_group  \n",
      "count    2.000000           10.0  \n",
      "mean   234.500000            3.0  \n",
      "std    130.814755            0.0  \n",
      "min    142.000000            3.0  \n",
      "25%    188.250000            3.0  \n",
      "50%    234.500000            3.0  \n",
      "75%    280.750000            3.0  \n",
      "max    327.000000            3.0  \n"
     ]
    }
   ],
   "source": [
    "print(original_df[ (original_df['cluster_group']==3) ].describe())"
   ]
  },
  {
   "cell_type": "code",
   "execution_count": 25,
   "metadata": {},
   "outputs": [
    {
     "name": "stdout",
     "output_type": "stream",
     "text": [
      "       pclass    survived         age       sibsp       parch        fare  \\\n",
      "count   270.0  270.000000  231.000000  270.000000  270.000000  270.000000   \n",
      "mean      1.0    0.600000   39.480519    0.370370    0.188889   61.120016   \n",
      "std       0.0    0.490808   13.903106    0.520805    0.469781   38.874905   \n",
      "min       1.0    0.000000    4.000000    0.000000    0.000000    0.000000   \n",
      "25%       1.0    0.000000   29.000000    0.000000    0.000000   29.700000   \n",
      "50%       1.0    1.000000   39.000000    0.000000    0.000000   53.100000   \n",
      "75%       1.0    1.000000   49.000000    1.000000    0.000000   79.650000   \n",
      "max       1.0    1.000000   80.000000    2.000000    2.000000  227.525000   \n",
      "\n",
      "             body  cluster_group  \n",
      "count   30.000000          270.0  \n",
      "mean   172.566667            0.0  \n",
      "std     84.511449            0.0  \n",
      "min     16.000000            0.0  \n",
      "25%    114.000000            0.0  \n",
      "50%    173.500000            0.0  \n",
      "75%    242.250000            0.0  \n",
      "max    307.000000            0.0  \n"
     ]
    }
   ],
   "source": [
    "cluster_0 = (original_df[ (original_df['cluster_group']==0) ])\n",
    "cluster_0_fc = (cluster_0[ (cluster_0['pclass']==1) ])\n",
    "print(cluster_0_fc.describe())"
   ]
  },
  {
   "cell_type": "code",
   "execution_count": 26,
   "metadata": {},
   "outputs": [],
   "source": [
    "# Here 60% of class 1 individuals in cluster 0 survived"
   ]
  },
  {
   "cell_type": "code",
   "execution_count": 29,
   "metadata": {
    "scrolled": true
   },
   "outputs": [
    {
     "name": "stdout",
     "output_type": "stream",
     "text": [
      "     pclass  survived                                               name  \\\n",
      "49        1         1                 Cardeza, Mr. Thomas Drake Martinez   \n",
      "50        1         1  Cardeza, Mrs. James Warburton Martinez (Charlo...   \n",
      "183       1         1                             Lesurer, Mr. Gustave J   \n",
      "302       1         1                                   Ward, Miss. Anna   \n",
      "\n",
      "        sex   age  sibsp  parch    ticket      fare        cabin embarked  \\\n",
      "49     male  36.0      0      1  PC 17755  512.3292  B51 B53 B55        C   \n",
      "50   female  58.0      0      1  PC 17755  512.3292  B51 B53 B55        C   \n",
      "183    male  35.0      0      0  PC 17755  512.3292         B101        C   \n",
      "302  female  35.0      0      0  PC 17755  512.3292          NaN        C   \n",
      "\n",
      "    boat  body                                       home.dest  cluster_group  \n",
      "49     3   NaN  Austria-Hungary / Germantown, Philadelphia, PA            2.0  \n",
      "50     3   NaN                    Germantown, Philadelphia, PA            2.0  \n",
      "183    3   NaN                                             NaN            2.0  \n",
      "302    3   NaN                                             NaN            2.0  \n"
     ]
    }
   ],
   "source": [
    "print(original_df[ (original_df['cluster_group']==2) ])"
   ]
  },
  {
   "cell_type": "code",
   "execution_count": null,
   "metadata": {},
   "outputs": [],
   "source": [
    "# All the people of this cluster survived (100% survival)"
   ]
  }
 ],
 "metadata": {
  "kernelspec": {
   "display_name": "Python 3",
   "language": "python",
   "name": "python3"
  },
  "language_info": {
   "codemirror_mode": {
    "name": "ipython",
    "version": 3
   },
   "file_extension": ".py",
   "mimetype": "text/x-python",
   "name": "python",
   "nbconvert_exporter": "python",
   "pygments_lexer": "ipython3",
   "version": "3.8.5"
  }
 },
 "nbformat": 4,
 "nbformat_minor": 4
}
