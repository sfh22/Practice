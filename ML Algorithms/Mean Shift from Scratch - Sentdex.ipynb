{
 "cells": [
  {
   "cell_type": "markdown",
   "metadata": {},
   "source": [
    "# MeanShift from Scratch"
   ]
  },
  {
   "cell_type": "code",
   "execution_count": 8,
   "metadata": {},
   "outputs": [],
   "source": [
    "import matplotlib.pyplot as plt\n",
    "from matplotlib import style\n",
    "style.use('ggplot')\n",
    "import numpy as np\n",
    "from matplotlib.pyplot import figure"
   ]
  },
  {
   "cell_type": "code",
   "execution_count": 3,
   "metadata": {},
   "outputs": [],
   "source": [
    "X = np.array([[1, 2],\n",
    "              [1.5, 1.8],\n",
    "              [5, 8 ],\n",
    "              [8, 8],\n",
    "              [1, 0.6],\n",
    "              [9,11],\n",
    "              [8,2],\n",
    "              [10,2],\n",
    "              [9,3],])"
   ]
  },
  {
   "cell_type": "code",
   "execution_count": 32,
   "metadata": {},
   "outputs": [
    {
     "data": {
      "image/png": "[encoded data removed]",
      "text/plain": [
       "<Figure size 1440x720 with 1 Axes>"
      ]
     },
     "metadata": {},
     "output_type": "display_data"
    }
   ],
   "source": [
    "plt.scatter(X[:,0], X[:,1], s=150)\n",
    "from pylab import rcParams\n",
    "plt.rcParams[\"figure.figsize\"] = (10,10)\n",
    "plt.show()\n",
    "\n",
    "colors = 10*[\"g\",\"r\",\"c\",\"b\",\"k\"]"
   ]
  },
  {
   "cell_type": "code",
   "execution_count": 33,
   "metadata": {},
   "outputs": [],
   "source": [
    "class Mean_Shift:\n",
    "    def __init__(self, radius=4):\n",
    "        self.radius = radius\n",
    "\n",
    "    def fit(self, data):\n",
    "        centroids = {}\n",
    "\n",
    "        for i in range(len(data)):\n",
    "            centroids[i] = data[i]\n",
    "        \n",
    "        while True:\n",
    "            new_centroids = []\n",
    "            for i in centroids:\n",
    "                in_bandwidth = []\n",
    "                centroid = centroids[i]\n",
    "                for featureset in data:\n",
    "                    if np.linalg.norm(featureset-centroid) < self.radius:\n",
    "                        in_bandwidth.append(featureset)\n",
    "\n",
    "                new_centroid = np.average(in_bandwidth,axis=0)\n",
    "                new_centroids.append(tuple(new_centroid))\n",
    "\n",
    "            uniques = sorted(list(set(new_centroids)))\n",
    "\n",
    "            prev_centroids = dict(centroids)\n",
    "\n",
    "            centroids = {}\n",
    "            for i in range(len(uniques)):\n",
    "                centroids[i] = np.array(uniques[i])\n",
    "\n",
    "            optimized = True\n",
    "\n",
    "            for i in centroids:\n",
    "                if not np.array_equal(centroids[i], prev_centroids[i]):\n",
    "                    optimized = False\n",
    "                if not optimized:\n",
    "                    break\n",
    "                \n",
    "            if optimized:\n",
    "                break\n",
    "\n",
    "        self.centroids = centroids"
   ]
  },
  {
   "cell_type": "code",
   "execution_count": 34,
   "metadata": {},
   "outputs": [],
   "source": [
    "clf = Mean_Shift()\n",
    "clf.fit(X)\n",
    "\n",
    "centroids = clf.centroids"
   ]
  },
  {
   "cell_type": "code",
   "execution_count": 35,
   "metadata": {},
   "outputs": [
    {
     "data": {
      "image/png": "[encoded data removed]",
      "text/plain": [
       "<Figure size 720x720 with 1 Axes>"
      ]
     },
     "metadata": {},
     "output_type": "display_data"
    }
   ],
   "source": [
    "plt.scatter(X[:,0], X[:,1], s=150)\n",
    "\n",
    "for c in centroids:\n",
    "    plt.scatter(centroids[c][0], centroids[c][1], color='k', marker='*', s=150)\n",
    "\n",
    "plt.show()"
   ]
  },
  {
   "cell_type": "markdown",
   "metadata": {},
   "source": [
    "# Dynamically Weighted Bandwidth for Mean Shift\n"
   ]
  },
  {
   "cell_type": "code",
   "execution_count": 79,
   "metadata": {},
   "outputs": [],
   "source": [
    "import matplotlib.pyplot as plt\n",
    "from matplotlib import style\n",
    "import numpy as np\n",
    "from sklearn.datasets.samples_generator import make_blobs\n",
    "style.use('ggplot')"
   ]
  },
  {
   "cell_type": "code",
   "execution_count": 80,
   "metadata": {},
   "outputs": [],
   "source": [
    "X, y = make_blobs(n_samples=15, centers=3, n_features=2) # You can change the number of samples"
   ]
  },
  {
   "cell_type": "code",
   "execution_count": 81,
   "metadata": {},
   "outputs": [
    {
     "data": {
      "text/plain": [
       "'\\n1. Start at every datapoint as a cluster center\\n\\n2. take mean of radius around cluster, setting that as new cluster center\\n\\n3. Repeat #2 until convergence.\\n\\n'"
      ]
     },
     "execution_count": 81,
     "metadata": {},
     "output_type": "execute_result"
    }
   ],
   "source": [
    "'''\n",
    "1. Start at every datapoint as a cluster center\n",
    "\n",
    "2. take mean of radius around cluster, setting that as new cluster center\n",
    "\n",
    "3. Repeat #2 until convergence.\n",
    "\n",
    "'''"
   ]
  },
  {
   "cell_type": "code",
   "execution_count": 82,
   "metadata": {},
   "outputs": [],
   "source": [
    "class Mean_Shift:\n",
    "    def __init__(self, radius = None, radius_norm_step = 100):\n",
    "        self.radius = radius\n",
    "        self.radius_norm_step = radius_norm_step\n",
    "    \n",
    "    def fit(self,data):\n",
    "\n",
    "        if self.radius == None:\n",
    "            all_data_centroid = np.average(data,axis=0)\n",
    "            all_data_norm = np.linalg.norm(all_data_centroid)\n",
    "            self.radius = all_data_norm/self.radius_norm_step\n",
    "            print(self.radius)\n",
    "\n",
    "        centroids = {}\n",
    "\n",
    "        for i in range(len(data)):\n",
    "            centroids[i] = data[i]\n",
    "\n",
    "        weights = [i for i in range(self.radius_norm_step)][::-1]    \n",
    "        while True:\n",
    "            new_centroids = []\n",
    "            for i in centroids:\n",
    "                in_bandwidth = []\n",
    "                centroid = centroids[i]\n",
    "                \n",
    "                for featureset in data:\n",
    "\n",
    "                    distance = np.linalg.norm(featureset-centroid)\n",
    "                    if distance == 0:\n",
    "                        distance = 0.00000000001\n",
    "                    weight_index = int(distance/self.radius)\n",
    "                    if weight_index > self.radius_norm_step-1:\n",
    "                        weight_index = self.radius_norm_step-1\n",
    "\n",
    "                    to_add = (weights[weight_index]**2)*[featureset]\n",
    "                    in_bandwidth +=to_add\n",
    "\n",
    "                new_centroid = np.average(in_bandwidth,axis=0)\n",
    "                new_centroids.append(tuple(new_centroid))\n",
    "\n",
    "            uniques = sorted(list(set(new_centroids)))\n",
    "\n",
    "            to_pop = []\n",
    "\n",
    "            for i in uniques:\n",
    "                for ii in [i for i in uniques]:\n",
    "                    if i == ii:\n",
    "                        pass\n",
    "                    elif np.linalg.norm(np.array(i)-np.array(ii)) <= self.radius:\n",
    "                        #print(np.array(i), np.array(ii))\n",
    "                        to_pop.append(ii)\n",
    "                        break\n",
    "\n",
    "            for i in to_pop:\n",
    "                try:\n",
    "                    uniques.remove(i)\n",
    "                except:\n",
    "                    pass\n",
    "\n",
    "            prev_centroids = dict(centroids)\n",
    "            centroids = {}\n",
    "            for i in range(len(uniques)):\n",
    "                centroids[i] = np.array(uniques[i])\n",
    "\n",
    "            optimized = True\n",
    "\n",
    "            for i in centroids:\n",
    "                if not np.array_equal(centroids[i], prev_centroids[i]):\n",
    "                    optimized = False\n",
    "\n",
    "            if optimized:\n",
    "                break\n",
    "            \n",
    "        self.centroids = centroids\n",
    "        self.classifications = {}\n",
    "\n",
    "        for i in range(len(self.centroids)):\n",
    "            self.classifications[i] = []\n",
    "            \n",
    "        for featureset in data:\n",
    "            #compare distance to either centroid\n",
    "            distances = [np.linalg.norm(featureset-self.centroids[centroid]) for centroid in self.centroids]\n",
    "            #print(distances)\n",
    "            classification = (distances.index(min(distances)))\n",
    "\n",
    "            # featureset that belongs to that cluster\n",
    "            self.classifications[classification].append(featureset)\n",
    "\n",
    "\n",
    "    def predict(self,data):\n",
    "        #compare distance to either centroid\n",
    "        distances = [np.linalg.norm(data-self.centroids[centroid]) for centroid in self.centroids]\n",
    "        classification = (distances.index(min(distances)))\n",
    "        return classification"
   ]
  },
  {
   "cell_type": "code",
   "execution_count": 83,
   "metadata": {},
   "outputs": [
    {
     "name": "stdout",
     "output_type": "stream",
     "text": [
      "0.06623105364416357\n"
     ]
    }
   ],
   "source": [
    "clf = Mean_Shift()\n",
    "clf.fit(X)"
   ]
  },
  {
   "cell_type": "code",
   "execution_count": 84,
   "metadata": {},
   "outputs": [
    {
     "name": "stdout",
     "output_type": "stream",
     "text": [
      "{0: array([-1.67863428, -3.37410408]), 1: array([ 1.57451234, -8.98090603]), 2: array([ 7.47035963, -5.96748753])}\n"
     ]
    }
   ],
   "source": [
    "centroids = clf.centroids\n",
    "print(centroids)"
   ]
  },
  {
   "cell_type": "code",
   "execution_count": 85,
   "metadata": {},
   "outputs": [],
   "source": [
    "colors = 10*['r','g','b','c','k','y']"
   ]
  },
  {
   "cell_type": "code",
   "execution_count": 86,
   "metadata": {},
   "outputs": [
    {
     "data": {
      "image/png": "[encoded data removed]",
      "text/plain": [
       "<Figure size 720x720 with 1 Axes>"
      ]
     },
     "metadata": {},
     "output_type": "display_data"
    }
   ],
   "source": [
    "for classification in clf.classifications:\n",
    "    color = colors[classification]\n",
    "    for featureset in clf.classifications[classification]:\n",
    "        plt.scatter(featureset[0],featureset[1], marker = \"x\", color=color, s=150, linewidths = 5, zorder = 10)\n",
    "\n",
    "for c in centroids:\n",
    "    plt.scatter(centroids[c][0],centroids[c][1], color='k', marker = \"*\", s=150, linewidths = 5)\n",
    "\n",
    "plt.show()"
   ]
  }
 ],
 "metadata": {
  "kernelspec": {
   "display_name": "Python 3",
   "language": "python",
   "name": "python3"
  },
  "language_info": {
   "codemirror_mode": {
    "name": "ipython",
    "version": 3
   },
   "file_extension": ".py",
   "mimetype": "text/x-python",
   "name": "python",
   "nbconvert_exporter": "python",
   "pygments_lexer": "ipython3",
   "version": "3.8.5"
  }
 },
 "nbformat": 4,
 "nbformat_minor": 4
}
