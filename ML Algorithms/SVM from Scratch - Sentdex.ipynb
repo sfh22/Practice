{
 "cells": [
  {
   "cell_type": "code",
   "execution_count": 1,
   "metadata": {},
   "outputs": [],
   "source": [
    "import matplotlib.pyplot as plt\n",
    "from matplotlib import style\n",
    "import numpy as np\n",
    "style.use('ggplot')"
   ]
  },
  {
   "cell_type": "code",
   "execution_count": 31,
   "metadata": {},
   "outputs": [],
   "source": [
    "class Support_Vector_Machine:\n",
    "    def __init__(self, visualization = True):\n",
    "        self.visualization = visualization\n",
    "        self.colors = {1:'r', -1:'b'}\n",
    "        if self.visualization:\n",
    "            self.fig = plt.figure()\n",
    "            self.ax = self.fig.add_subplot(1,1,1)\n",
    "    \n",
    "    # train\n",
    "    def fit(self, data):\n",
    "        self.data = data\n",
    "        # { ||w||: [w,b] }\n",
    "        opt_dict = {}\n",
    "        \n",
    "        transforms = [[1,1],\n",
    "                     [-1,1],\n",
    "                     [-1,-1],\n",
    "                     [1,-1]]\n",
    "        \n",
    "        all_data = []\n",
    "        \n",
    "        for yi in self.data:\n",
    "            for featureset in self.data[yi]:\n",
    "                for feature in featureset:\n",
    "                    all_data.append(feature)\n",
    "        \n",
    "        self.max_feature_value = max(all_data)\n",
    "        self.min_feature_value = min(all_data)\n",
    "        all_data = None\n",
    "        \n",
    "        step_sizes = [self.max_feature_value * 0.1,\n",
    "                      self.max_feature_value * 0.01,\n",
    "                      # point of expense:\n",
    "                      self.max_feature_value * 0.001,]\n",
    "        \n",
    "        # extremely expensive\n",
    "        b_range_multiple = 5\n",
    "        # we dont need to take small of steps with b as we di with w\n",
    "        b_multiple = 5\n",
    "        latest_optimum = self.max_feature_value * 10\n",
    "        \n",
    "        for step in step_sizes:\n",
    "            w = np.array([latest_optimum, latest_optimum])\n",
    "            # we can do this because convex\n",
    "            optimized = False\n",
    "            while not optimized:\n",
    "                for b in np.arange(-1*(self.max_feature_value * b_range_multiple),\n",
    "                                   self.max_feature_value * b_range_multiple, step * b_multiple):\n",
    "                    for transformation in transforms:\n",
    "                        w_t = w * transformation\n",
    "                        found_option = True\n",
    "                        # weakest link in the SVM fundementally, SMO attempts to fix this a bit\n",
    "                        # yi(xi.w + b) >= 1\n",
    "                        for i in self.data:\n",
    "                            for xi in self.data[i]:\n",
    "                                yi = i\n",
    "                                if not yi * (np.dot(w_t, xi) + b) >= 1:\n",
    "                                    found_option = False\n",
    "                                \n",
    "                        if found_option:\n",
    "                            opt_dict[np.linalg.norm(w_t)] = [w_t,b]\n",
    "                \n",
    "                if w[0] < 0:\n",
    "                    optimized = True\n",
    "                    print('Optimized a step')\n",
    "                else:\n",
    "                    w = w - step\n",
    "            \n",
    "            norms = sorted([n for n in opt_dict])\n",
    "            # ||w||: [w,b]\n",
    "            opt_choice = opt_dict[norms[0]]\n",
    "            self.w = opt_choice[0]\n",
    "            self.b = opt_choice[1]\n",
    "            latest_optimum = opt_choice[0][0] + step * 2\n",
    "                                    \n",
    "     \n",
    "   \n",
    "    def predict(self, features):\n",
    "        # sign(x.w + b)\n",
    "        classification = np.sign(np.dot(np.array(features), self.w) + self.b)\n",
    "        if classification != 0 and self.visualization:\n",
    "            self.ax.scatter(features[0], features[1], s = 200, marker= '*', c = self.colors[classification])\n",
    "        return classification\n",
    "    \n",
    "    def visualize(self):\n",
    "        [[self.ax.scatter(x[0], x[1], s = 100, color = self.colors[i]) for x in data_dict[i]] for i in data_dict]\n",
    "        \n",
    "        # hyperplane = x.w + b\n",
    "        # v = x.w + b\n",
    "        # psv = 1\n",
    "        # nsv = -1\n",
    "        # decison boundary = 0\n",
    "        def hyperplane(x,w,b,v):\n",
    "            return (-w[0]*x -b +v) / w[1]\n",
    "        \n",
    "        datarange = (self.min_feature_value * 0.9, self.max_feature_value * 1.1)\n",
    "        hyp_x_min = datarange[0]\n",
    "        hyp_x_max = datarange[1]\n",
    "        \n",
    "        # (w.x + b) = 1\n",
    "        # positive support vector hyperplane\n",
    "        psv1 = hyperplane(hyp_x_min, self.w, self.b, 1)\n",
    "        psv2 = hyperplane(hyp_x_max, self.w, self.b, 1)\n",
    "        self.ax.plot([hyp_x_min, hyp_x_max], [psv1, psv2], 'k')\n",
    "        \n",
    "        # (w.x + b) = -1\n",
    "        # negative support vector hyperplane\n",
    "        nsv1 = hyperplane(hyp_x_min, self.w, self.b, -1)\n",
    "        nsv2 = hyperplane(hyp_x_max, self.w, self.b, -1)\n",
    "        self.ax.plot([hyp_x_min, hyp_x_max], [nsv1, nsv2], 'k')\n",
    "        \n",
    "        # (w.x + b) = 0\n",
    "        # decision support vector hyperplane\n",
    "        db1 = hyperplane(hyp_x_min, self.w, self.b, 0)\n",
    "        db2 = hyperplane(hyp_x_max, self.w, self.b, 0)\n",
    "        self.ax.plot([hyp_x_min, hyp_x_max], [db1, db2], 'y--')\n",
    "        \n",
    "        plt.show()\n",
    "        "
   ]
  },
  {
   "cell_type": "code",
   "execution_count": 32,
   "metadata": {},
   "outputs": [],
   "source": [
    "data_dict = {-1:np.array([[1,7],\n",
    "                         [2,8],\n",
    "                         [3,8]]),\n",
    "              1:np.array([[5,1],\n",
    "                        [6,-1],\n",
    "                        [7,3]])}"
   ]
  },
  {
   "cell_type": "code",
   "execution_count": 33,
   "metadata": {},
   "outputs": [
    {
     "name": "stdout",
     "output_type": "stream",
     "text": [
      "Optimized a step\n",
      "Optimized a step\n",
      "Optimized a step\n"
     ]
    },
    {
     "data": {
      "image/png": "[encoded data removed]",
      "text/plain": [
       "<Figure size 432x288 with 1 Axes>"
      ]
     },
     "metadata": {},
     "output_type": "display_data"
    }
   ],
   "source": [
    "svm = Support_Vector_Machine()\n",
    "svm.fit(data = data_dict)\n",
    "\n",
    "predict_us = [[0,10],\n",
    "              [1,3],\n",
    "              [3,4],\n",
    "              [3,5],\n",
    "              [5,5],\n",
    "              [5,6],\n",
    "              [6,-5],\n",
    "              [5,-8],]\n",
    "for p in predict_us:\n",
    "    svm.predict(p)\n",
    "    \n",
    "svm.visualize()"
   ]
  },
  {
   "cell_type": "code",
   "execution_count": 34,
   "metadata": {},
   "outputs": [
    {
     "data": {
      "text/plain": [
       "1.0"
      ]
     },
     "execution_count": 34,
     "metadata": {},
     "output_type": "execute_result"
    }
   ],
   "source": [
    "svm.predict([5,2])"
   ]
  },
  {
   "cell_type": "code",
   "execution_count": 35,
   "metadata": {},
   "outputs": [
    {
     "data": {
      "text/plain": [
       "-1.0"
      ]
     },
     "execution_count": 35,
     "metadata": {},
     "output_type": "execute_result"
    }
   ],
   "source": [
    "svm.predict([0,10])"
   ]
  }
 ],
 "metadata": {
  "kernelspec": {
   "display_name": "Python 3",
   "language": "python",
   "name": "python3"
  },
  "language_info": {
   "codemirror_mode": {
    "name": "ipython",
    "version": 3
   },
   "file_extension": ".py",
   "mimetype": "text/x-python",
   "name": "python",
   "nbconvert_exporter": "python",
   "pygments_lexer": "ipython3",
   "version": "3.8.5"
  }
 },
 "nbformat": 4,
 "nbformat_minor": 4
}
