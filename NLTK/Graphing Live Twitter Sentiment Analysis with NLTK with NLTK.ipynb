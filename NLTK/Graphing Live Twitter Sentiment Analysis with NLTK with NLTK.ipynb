{
 "cells": [
  {
   "cell_type": "code",
   "execution_count": 73,
   "metadata": {},
   "outputs": [],
   "source": [
    "import matplotlib.pyplot as plt\n",
    "import matplotlib.animation as animation\n",
    "from matplotlib import style\n",
    "style.use(\"ggplot\")"
   ]
  },
  {
   "cell_type": "code",
   "execution_count": 74,
   "metadata": {},
   "outputs": [],
   "source": [
    "%matplotlib qt"
   ]
  },
  {
   "cell_type": "code",
   "execution_count": 96,
   "metadata": {},
   "outputs": [],
   "source": [
    "fig = plt.figure(figsize=(20,10))\n",
    "ax1 = fig.add_subplot(1,1,1)\n",
    "\n",
    "def animate(i):\n",
    "    data = open('twitter-out.txt','r').read()\n",
    "    lines = data.split('\\n')\n",
    "    \n",
    "    xs = []\n",
    "    ys = []\n",
    "    \n",
    "    x = 0\n",
    "    y = 0\n",
    "   \n",
    "    for line in lines:\n",
    "        x += 1\n",
    "        if \"pos\" in line:\n",
    "            y += 1\n",
    "        elif \"neg\" in line:\n",
    "            y -= 1\n",
    "\n",
    "        xs.append(x)\n",
    "        ys.append(y)\n",
    "   \n",
    "    \n",
    "    ax1.clear()\n",
    "    ax1.plot(xs, ys)\n",
    "\n",
    "    plt.xlabel('Tweet')\n",
    "    plt.ylabel('Sentiment')\n",
    "    plt.title('Live graph with matplotlib')"
   ]
  },
  {
   "cell_type": "code",
   "execution_count": 97,
   "metadata": {},
   "outputs": [],
   "source": [
    "ani = animation.FuncAnimation(fig, animate, interval=1000) \n",
    "plt.show()"
   ]
  }
 ],
 "metadata": {
  "kernelspec": {
   "display_name": "Python 3",
   "language": "python",
   "name": "python3"
  },
  "language_info": {
   "codemirror_mode": {
    "name": "ipython",
    "version": 3
   },
   "file_extension": ".py",
   "mimetype": "text/x-python",
   "name": "python",
   "nbconvert_exporter": "python",
   "pygments_lexer": "ipython3",
   "version": "3.8.5"
  }
 },
 "nbformat": 4,
 "nbformat_minor": 4
}
