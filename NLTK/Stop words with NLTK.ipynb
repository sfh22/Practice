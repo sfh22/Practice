{
 "cells": [
  {
   "cell_type": "code",
   "execution_count": 1,
   "metadata": {},
   "outputs": [],
   "source": [
    "from nltk.corpus import stopwords\n",
    "from nltk.tokenize import word_tokenize"
   ]
  },
  {
   "cell_type": "code",
   "execution_count": 2,
   "metadata": {},
   "outputs": [],
   "source": [
    "example_sent = \"This is a sample sentence, showing off the stop words filtration.\""
   ]
  },
  {
   "cell_type": "code",
   "execution_count": 3,
   "metadata": {},
   "outputs": [],
   "source": [
    "stop_words = set(stopwords.words('english'))"
   ]
  },
  {
   "cell_type": "code",
   "execution_count": 4,
   "metadata": {},
   "outputs": [
    {
     "name": "stdout",
     "output_type": "stream",
     "text": [
      "{'did', 'after', 'ain', 'your', \"don't\", 'about', 'yours', 'his', \"needn't\", \"weren't\", 'of', 'and', 'are', 'from', 'ours', 'where', \"haven't\", 'there', 'mustn', 'once', 'shouldn', 'out', 'other', 'we', 'do', 'no', \"mustn't\", \"it's\", \"mightn't\", 'most', 'or', \"doesn't\", 'they', 'with', 'she', 'when', 'how', 'own', \"aren't\", 'couldn', 'further', 'now', 'why', 's', 'an', 'yourselves', 'by', \"you'll\", 'doesn', 'aren', 'just', 'to', 'both', 'only', 'was', 'on', 'don', 'which', 'too', 't', 'such', 'then', \"should've\", 'that', 'being', 'again', 'my', 'shan', 'same', 'will', 're', 'hadn', \"shan't\", 'have', 'weren', 'nor', 'over', 'were', 'ourselves', 'isn', 'between', 'm', 'into', 'than', 'against', 'before', 'this', 'very', \"isn't\", 'myself', 'off', 'theirs', 'y', 'all', 'them', 'me', 'wouldn', 'd', 'in', 'didn', 'more', 'up', 'who', 'some', 'so', \"wasn't\", 'should', 'here', \"you'd\", \"you've\", 'doing', 've', 'under', 'wasn', 'him', 'needn', 'few', 'these', 'at', 'for', 'themselves', 'you', 'above', 'll', 'having', 'won', \"won't\", 'has', \"that'll\", 'can', 'its', 'down', 'because', 'it', 'below', 'is', 'while', 'yourself', 'been', 'am', 'but', 'during', 'as', 'the', 'herself', 'hers', 'be', 'haven', 'o', 'their', 'whom', \"didn't\", 'those', 'our', 'had', 'her', 'ma', \"you're\", 'a', 'through', 'i', 'he', \"hadn't\", \"hasn't\", 'what', 'any', 'not', 'himself', \"shouldn't\", 'does', 'until', \"couldn't\", 'each', \"wouldn't\", 'mightn', \"she's\", 'itself', 'hasn', 'if'}\n"
     ]
    }
   ],
   "source": [
    "print(stop_words)"
   ]
  },
  {
   "cell_type": "code",
   "execution_count": 5,
   "metadata": {},
   "outputs": [],
   "source": [
    "word_tokens = word_tokenize(example_sent)"
   ]
  },
  {
   "cell_type": "code",
   "execution_count": 9,
   "metadata": {},
   "outputs": [],
   "source": [
    "# filtered_sentence = [w for w in word_tokens if not w in stop_words]"
   ]
  },
  {
   "cell_type": "code",
   "execution_count": 11,
   "metadata": {},
   "outputs": [],
   "source": [
    "filtered_sentence = []"
   ]
  },
  {
   "cell_type": "code",
   "execution_count": 12,
   "metadata": {},
   "outputs": [],
   "source": [
    "for w in word_tokens:\n",
    "    if w not in stop_words:\n",
    "        filtered_sentence.append(w)"
   ]
  },
  {
   "cell_type": "code",
   "execution_count": 13,
   "metadata": {},
   "outputs": [
    {
     "name": "stdout",
     "output_type": "stream",
     "text": [
      "['This', 'is', 'a', 'sample', 'sentence', ',', 'showing', 'off', 'the', 'stop', 'words', 'filtration', '.']\n"
     ]
    }
   ],
   "source": [
    "print(word_tokens)"
   ]
  },
  {
   "cell_type": "code",
   "execution_count": 14,
   "metadata": {},
   "outputs": [
    {
     "name": "stdout",
     "output_type": "stream",
     "text": [
      "['This', 'sample', 'sentence', ',', 'showing', 'stop', 'words', 'filtration', '.']\n"
     ]
    }
   ],
   "source": [
    "print(filtered_sentence)"
   ]
  }
 ],
 "metadata": {
  "kernelspec": {
   "display_name": "Python 3",
   "language": "python",
   "name": "python3"
  },
  "language_info": {
   "codemirror_mode": {
    "name": "ipython",
    "version": 3
   },
   "file_extension": ".py",
   "mimetype": "text/x-python",
   "name": "python",
   "nbconvert_exporter": "python",
   "pygments_lexer": "ipython3",
   "version": "3.8.5"
  }
 },
 "nbformat": 4,
 "nbformat_minor": 4
}
