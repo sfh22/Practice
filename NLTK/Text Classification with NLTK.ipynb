{
 "cells": [
  {
   "cell_type": "code",
   "execution_count": 3,
   "metadata": {},
   "outputs": [
    {
     "name": "stderr",
     "output_type": "stream",
     "text": [
      "[nltk_data] Downloading package movie_reviews to\n",
      "[nltk_data]     C:\\Users\\samer\\AppData\\Roaming\\nltk_data...\n",
      "[nltk_data]   Unzipping corpora\\movie_reviews.zip.\n"
     ]
    }
   ],
   "source": [
    "import nltk\n",
    "import random\n",
    "nltk.download('movie_reviews')\n",
    "from nltk.corpus import movie_reviews"
   ]
  },
  {
   "cell_type": "code",
   "execution_count": 4,
   "metadata": {},
   "outputs": [],
   "source": [
    "documents = [(list(movie_reviews.words(fileid)), category)\n",
    "             for category in movie_reviews.categories()\n",
    "             for fileid in movie_reviews.fileids(category)]"
   ]
  },
  {
   "cell_type": "code",
   "execution_count": 5,
   "metadata": {},
   "outputs": [],
   "source": [
    "random.shuffle(documents)"
   ]
  },
  {
   "cell_type": "code",
   "execution_count": 9,
   "metadata": {},
   "outputs": [
    {
     "name": "stdout",
     "output_type": "stream",
     "text": [
      "(['jarvis', 'cocker', 'of', 'pulp', 'once', 'said', 'that', 'he', 'wrote', 'common', 'people', 'after', 'noticing', 'mike', 'leigh', 'box', '-', 'sets', 'on', 'the', 'video', 'shelves', '--', 'he', 'had', 'a', 'feeling', 'that', 'economic', 'deprivation', 'was', 'becoming', 'a', 'tourist', 'experience', 'for', 'the', 'well', '-', 'off', '.', 'maybe', 'it', \"'\", 's', 'a', 'classic', 'case', 'of', 'displacement', ':', 'it', \"'\", 's', 'easier', 'to', 'see', 'jarvis', \"'\", 'own', 'lyrics', '(', 'obsessed', 'with', 'acrylic', 'and', 'wood', 'chip', 'on', 'the', 'wall', ')', 'as', 'a', 'fetishization', 'of', 'lowlife', ',', 'rather', 'than', 'leigh', \"'\", 's', 'films', '.', 'but', 'it', \"'\", 's', 'worth', 'being', 'reminded', 'that', 'drab', 'interiors', 'and', 'a', 'couple', 'of', 'working', '-', 'class', 'characters', 'don', \"'\", 't', 'make', 'for', 'a', 'guarantee', 'of', \"'\", 'authenticity', \"'\", ',', 'let', 'alone', 'a', 'good', 'film', '.', 'it', \"'\", 's', 'the', 'triumph', 'of', 'secrets', '&', 'lies', ',', 'then', ',', 'that', 'it', 'goes', 'beyond', 'gestures', 'of', 'sympathy', 'for', 'the', 'common', 'people', 'into', 'a', 'probing', 'of', 'just', 'what', 'it', 'means', 'to', 'seek', \"'\", 'authenticity', \"'\", 'and', 'honesty', 'in', 'everyday', 'lives', '.', 'following', 'her', 'adopted', 'mother', \"'\", 's', 'funeral', ',', 'hortense', ',', 'a', 'young', 'black', 'optometrist', ',', 'sets', 'out', 'to', 'find', 'her', 'birth', 'mother', ',', 'and', 'is', 'disturbed', 'to', 'find', 'out', 'that', 'she', 'is', 'white', '.', 'it', 'is', 'cynthia', ',', 'a', 'factory', 'worker', 'who', 'lives', 'in', 'a', 'shabby', 'house', 'with', 'her', 'perpetually', 'moody', 'daughter', 'roxanne', '.', 'cynthia', \"'\", 's', 'younger', 'brother', 'maurice', 'is', 'a', 'successful', 'photographer', 'who', 'has', 'not', 'seen', 'his', 'sister', 'for', 'ages', ',', 'largely', 'because', 'of', 'his', 'wife', \"'\", 's', 'animosity', 'towards', 'her', '.', 'hortense', 'calls', 'up', 'cynthia', ',', 'who', 'initially', 'breaks', 'down', 'in', 'tears', 'and', 'refuses', 'to', 'see', 'her', '.', 'but', 'their', 'mutually', 'suspicious', 'meeting', 'gives', 'way', 'to', 'a', 'warm', 'friendship', 'eventually', '.', 'cynthia', 'invites', 'hortense', 'to', 'come', 'along', 'to', 'a', 'party', ',', 'which', 'maurice', 'is', 'hosting', '.', '.', '.', 'secrets', '&', 'lies', 'has', 'a', 'simple', 'enough', 'theme', 'at', 'its', 'heart', '--', 'as', 'one', 'character', 'puts', 'it', ',', '\"', 'best', 'to', 'tell', 'the', 'truth', ',', 'isn', \"'\", 't', 'it', '?', 'that', 'way', 'nobody', 'gets', 'hurt', '.', '\"', '.', 'but', 'if', 'the', 'film', 'delivers', 'much', 'more', 'than', 'a', 'trite', 'message', ',', 'it', \"'\", 's', 'because', 'we', 'are', 'also', 'shown', 'how', 'hard', 'it', 'can', 'be', 'to', 'face', 'up', 'to', 'ugly', 'truths', ',', 'even', 'while', 'the', 'evasions', 'and', 'unspoken', 'grievances', 'slowly', 'choke', 'us', '.', 'hence', ',', 'cynthia', \"'\", 's', 'difficulty', 'with', 'acknowledging', '(', 'first', 'to', 'herself', ',', 'then', 'to', 'others', ')', 'that', 'hortense', 'is', 'her', 'daughter', '.', 'one', 'of', 'her', 'first', 'reactions', 'to', 'seeing', 'hortense', 'is', 'a', 'sincere', 'denial', 'that', 'she', 'has', 'ever', '\"', 'been', 'with', 'a', 'black', 'man', '\"', ',', 'before', 'a', 'long', '-', 'suppressed', 'memory', 'seizes', 'her', '.', 'at', 'the', 'party', ',', 'cynthia', \"'\", 's', 'pretense', 'that', 'hortense', 'is', 'her', 'factory', 'co', '-', 'worker', 'leads', 'her', 'to', 'ever', 'more', 'convoluted', 'lies', ',', 'as', 'agonizing', 'as', 'they', 'are', 'funny', '.', 'little', 'lies', 'seep', 'into', 'every', 'corner', ',', 'like', 'maurice', 'pretending', 'that', 'he', \"'\", 's', '\"', 'just', 'dropping', 'by', '\"', 'when', 'he', 'visits', 'cynthia', 'after', 'much', 'deliberation', '.', 'maurice', \"'\", 's', 'job', 'as', 'a', 'photographer', 'gives', 'the', 'film', 'opportunities', 'for', 'side', 'comments', 'on', 'the', 'main', 'theme', '-', 'a', 'sad', '-', 'looking', 'bride', 'that', 'maurice', 'coaxes', 'to', 'smile', ',', 'a', 'couple', 'who', 'pose', 'awkwardly', 'with', 'a', 'prominent', 'wedding', 'ring', 'and', 'argue', 'about', 'his', 'spectacles', '.', 'one', 'of', 'the', 'most', 'startling', 'images', 'is', 'of', 'a', 'beautiful', 'woman', 'with', 'large', 'scars', 'on', 'her', 'face', ':', 'she', 'says', 'she', 'needs', 'the', 'photo', 'to', 'look', '\"', 'as', 'bad', 'as', 'possible', '\"', 'to', 'collect', 'insurance', 'money', ',', 'yet', 'the', 'short', 'scene', 'leaves', 'you', 'wondering', 'about', 'what', 'untold', 'story', 'lies', 'behind', 'the', 'scars', '.', 'there', 'are', 'occasionally', 'hilarious', 'moments', ',', 'as', 'when', 'cynthia', 'attempts', 'to', 'give', 'her', 'daughter', 'some', 'unwelcome', 'advice', 'on', 'contraception', ',', '\"', 'i', \"'\", 've', 'got', 'a', 'dutch', 'cap', 'floating', 'about', 'somewhere', 'upstairs', '\"', ';', 'or', 'when', 'cynthia', 'stares', 'at', 'her', 'own', 'rather', 'pedestrian', 'legs', 'and', 'tells', 'roxanne', ',', '\"', 'if', 'you', \"'\", 've', 'got', 'it', ',', 'flaunt', 'it', ',', 'is', 'what', 'i', 'say', '.', '\"', 'as', 'played', 'by', 'brenda', 'blethyn', ',', 'cynthia', 'comes', 'close', 'to', 'being', 'a', 'caricature', ',', 'with', 'her', 'nervous', ',', 'somewhat', 'disconnected', 'way', 'of', 'talking', '.', 'but', 'she', \"'\", 's', 'really', 'just', 'right', 'for', 'the', 'role', 'of', 'someone', 'who', 'inspires', 'sympathy', 'and', 'yet', 'strains', 'the', 'tolerance', 'of', 'those', 'around', 'her', ',', 'precisely', 'because', 'she', \"'\", 's', 'so', 'needy', 'of', 'love', ',', 'perhaps', '.', 'indeed', ',', 'the', 'whole', 'cast', 'gives', 'warmly', 'rounded', ',', 'detailed', 'performances', '.', 'the', 'script', 'was', 'developed', 'partly', 'through', 'improvisations', ',', 'and', 'the', 'fusion', 'of', 'cast', ',', 'script', 'and', 'director', 'shows', 'best', 'in', 'the', 'party', 'scene', '-', 'seemingly', 'everyone', 'is', 'talking', 'at', 'the', 'same', 'time', ',', 'and', 'yet', 'many', 'subtle', 'observations', 'are', 'being', 'made', 'throughout', '.', 'in', 'a', 'very', 'different', 'way', ',', 'but', 'also', 'using', 'a', 'long', 'single', 'shot', ',', 'the', 'scene', 'of', 'hortense', 'and', 'cynthia', \"'\", 's', 'first', 'meeting', 'in', 'a', 'lonely', 'caf', '=', '8a', 'achieves', 'a', 'touching', 'intensity', ',', 'all', 'the', 'more', 'for', 'their', 'reticence', 'and', 'unspoken', 'feelings', '.', 'the', 'film', \"'\", 's', 'climax', '-', 'with', 'all', 'the', 'secrets', 'and', 'lies', 'finally', 'spilled', 'out', 'in', 'ibsen', '-', 'esque', 'revelations', ',', 'and', 'everybody', 'hugging', 'each', 'other', '-', 'is', 'the', 'one', 'thing', 'that', 'seems', 'false', 'about', 'this', 'film', '.', 'however', ',', 'it', \"'\", 's', 'a', 'film', 'that', 'truly', 'earns', 'its', 'happy', 'ending', 'after', 'the', 'misery', 'and', 'repression', 'of', 'the', 'character', \"'\", 's', 'lives', '.', 'when', 'cynthia', 'says', 'near', 'the', 'end', ',', 'this', 'is', 'the', 'life', ',', 'innit', '?', ',', 'you', 'get', 'the', 'sense', 'that', ',', 'following', 'the', 'cynicism', 'of', 'his', 'last', 'film', 'naked', ',', 'leigh', 'has', 'rediscovered', 'that', 'life', 'can', 'be', 'sweet', 'after', 'all', ',', 'without', 'comforting', 'illusions', '.', 'the', 'flying', 'inkpot', \"'\", 's', 'rating', 'system', ':', '*', 'wait', 'for', 'the', 'video', '.', '*', '*', 'a', 'little', 'creaky', ',', 'but', 'still', 'better', 'than', 'staying', 'at', 'home', 'with', 'gotcha', '!', '*', '*', '*', 'pretty', 'good', ',', 'bring', 'a', 'friend', '.', '*', '*', '*', '*', 'amazing', ',', 'potent', 'stuff', '.', '*', '*', '*', '*', '*', 'perfection', '.', 'see', 'it', 'twice', '.'], 'pos')\n"
     ]
    }
   ],
   "source": [
    "print(documents[10])"
   ]
  },
  {
   "cell_type": "code",
   "execution_count": 10,
   "metadata": {},
   "outputs": [],
   "source": [
    "all_words = []\n",
    "for w in movie_reviews.words():\n",
    "    all_words.append(w.lower())"
   ]
  },
  {
   "cell_type": "code",
   "execution_count": 11,
   "metadata": {},
   "outputs": [],
   "source": [
    "all_words = nltk.FreqDist(all_words)"
   ]
  },
  {
   "cell_type": "code",
   "execution_count": 12,
   "metadata": {},
   "outputs": [
    {
     "name": "stdout",
     "output_type": "stream",
     "text": [
      "[(',', 77717), ('the', 76529), ('.', 65876), ('a', 38106), ('and', 35576), ('of', 34123), ('to', 31937), (\"'\", 30585), ('is', 25195), ('in', 21822), ('s', 18513), ('\"', 17612), ('it', 16107), ('that', 15924), ('-', 15595)]\n"
     ]
    }
   ],
   "source": [
    "print(all_words.most_common(15))"
   ]
  },
  {
   "cell_type": "code",
   "execution_count": 13,
   "metadata": {},
   "outputs": [
    {
     "name": "stdout",
     "output_type": "stream",
     "text": [
      "253\n"
     ]
    }
   ],
   "source": [
    "print(all_words[\"stupid\"])"
   ]
  },
  {
   "cell_type": "code",
   "execution_count": 14,
   "metadata": {},
   "outputs": [
    {
     "name": "stdout",
     "output_type": "stream",
     "text": [
      "151\n"
     ]
    }
   ],
   "source": [
    "print(all_words[\"rating\"])"
   ]
  },
  {
   "cell_type": "code",
   "execution_count": 15,
   "metadata": {},
   "outputs": [
    {
     "name": "stdout",
     "output_type": "stream",
     "text": [
      "5771\n"
     ]
    }
   ],
   "source": [
    "print(all_words[\"movie\"])"
   ]
  },
  {
   "cell_type": "code",
   "execution_count": 16,
   "metadata": {},
   "outputs": [
    {
     "name": "stdout",
     "output_type": "stream",
     "text": [
      "1397\n"
     ]
    }
   ],
   "source": [
    "print(all_words[\"scene\"])"
   ]
  },
  {
   "cell_type": "code",
   "execution_count": 18,
   "metadata": {},
   "outputs": [
    {
     "name": "stdout",
     "output_type": "stream",
     "text": [
      "840\n"
     ]
    }
   ],
   "source": [
    "print(all_words[\"funny\"])"
   ]
  }
 ],
 "metadata": {
  "kernelspec": {
   "display_name": "Python 3",
   "language": "python",
   "name": "python3"
  },
  "language_info": {
   "codemirror_mode": {
    "name": "ipython",
    "version": 3
   },
   "file_extension": ".py",
   "mimetype": "text/x-python",
   "name": "python",
   "nbconvert_exporter": "python",
   "pygments_lexer": "ipython3",
   "version": "3.8.5"
  }
 },
 "nbformat": 4,
 "nbformat_minor": 4
}
